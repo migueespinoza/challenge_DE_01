{
 "cells": [
  {
   "cell_type": "markdown",
   "metadata": {},
   "source": [
    "# Q1"
   ]
  },
  {
   "cell_type": "markdown",
   "metadata": {},
   "source": [
    "1. Las top 10 fechas donde hay más tweets. Mencionar el usuario (username) que más publicaciones tiene por cada uno de esos días. Debe incluir las siguientes funciones:\n",
    "```python\n",
    "def q1_time(file_path: str) -> List[Tuple[datetime.date, str]]:\n",
    "```\n",
    "```python\n",
    "def q1_memory(file_path: str) -> List[Tuple[datetime.date, str]]:\n",
    "```\n",
    "```python\n",
    "Returns: \n",
    "[(datetime.date(1999, 11, 15), \"LATAM321\"), (datetime.date(1999, 7, 15), \"LATAM_CHI\"), ...]"
   ]
  },
  {
   "cell_type": "markdown",
   "metadata": {},
   "source": [
    "Primero se hará esta parte: \"Las top 10 fechas donde hay más tweets.\"\n",
    "\n",
    "Solución:\n",
    "La fecha viene en la columna date. Por lo tanto se debe hacer un groupby por fecha y contar la cantidad de tweets. Luego ordenar por cantidad descendentemente, y sacar las 10 primeras fechas, que serían las con más tweets."
   ]
  },
  {
   "cell_type": "markdown",
   "metadata": {},
   "source": [
    "# Q1 Solución 2: Uso de polars"
   ]
  },
  {
   "cell_type": "code",
   "execution_count": 1,
   "metadata": {},
   "outputs": [
    {
     "data": {
      "text/plain": [
       "['{\"url\": \"https://twitter.com/ArjunSinghPanam/status/1364506249291784198\", \"date\": \"2021-02-24T09:23:35+00:00\", \"content\": \"The world progresses while the Indian police and Govt are still trying to take India back to the horrific past through its tyranny. \\\\n\\\\n@narendramodi @DelhiPolice Shame on you. \\\\n\\\\n#ModiDontSellFarmers \\\\n#FarmersProtest \\\\n#FreeNodeepKaur https://t.co/es3kn0IQAF\", \"renderedContent\": \"The world progresses while the Indian police and Govt are still trying to take India back to the horrific past through its tyranny. \\\\n\\\\n@narendramodi @DelhiPolice Shame on you. \\\\n\\\\n#ModiDontSellFarmers \\\\n#FarmersProtest \\\\n#FreeNodeepKaur twitter.com/ravisinghka/st\\\\u2026\", \"id\": 1364506249291784198, \"user\": {\"username\": \"ArjunSinghPanam\", \"displayname\": \"Arjun Singh Panam\", \"id\": 45091142, \"description\": \"Global Citizen, Actor, Director: Sky is the roof above my head, the world is the road I travel, love is my food & mother earth is my bed. Roy in @CosmosMovie\", \"rawDescription\": \"Global Citizen, Actor, Director: Sky is the roof above my head, the world is the road I travel, love is my food & mother earth is my bed. Roy in @CosmosMovie\", \"descriptionUrls\": [], \"verified\": false, \"created\": \"2009-06-06T07:50:57+00:00\", \"followersCount\": 603, \"friendsCount\": 311, \"statusesCount\": 17534, \"favouritesCount\": 4269, \"listedCount\": 23, \"mediaCount\": 1211, \"location\": \"\", \"protected\": false, \"linkUrl\": \"https://www.cosmosmovieofficial.com\", \"linkTcourl\": \"https://t.co/3uaoV3gCt3\", \"profileImageUrl\": \"https://pbs.twimg.com/profile_images/1215541746492461056/3De61YoQ_normal.jpg\", \"profileBannerUrl\": \"https://pbs.twimg.com/profile_banners/45091142/1612601766\", \"url\": \"https://twitter.com/ArjunSinghPanam\"}, \"outlinks\": [\"https://twitter.com/ravisinghka/status/1364150844757860352\"], \"tcooutlinks\": [\"https://t.co/es3kn0IQAF\"], \"replyCount\": 0, \"retweetCount\": 0, \"likeCount\": 0, \"quoteCount\": 0, \"conversationId\": 1364506249291784198, \"lang\": \"en\", \"source\": \"<a href=\\\\\"http://twitter.com/download/iphone\\\\\" rel=\\\\\"nofollow\\\\\">Twitter for iPhone</a>\", \"sourceUrl\": \"http://twitter.com/download/iphone\", \"sourceLabel\": \"Twitter for iPhone\", \"media\": null, \"retweetedTweet\": null, \"quotedTweet\": {\"url\": \"https://twitter.com/RaviSinghKA/status/1364150844757860352\", \"date\": \"2021-02-23T09:51:20+00:00\", \"content\": \"This is what the indian police are good at, beating &amp; raping women ! @police_haryana @DelhiPolice \\\\n\\\\nhttps://t.co/mj1qzF7nGh\", \"renderedContent\": \"This is what the indian police are good at, beating &amp; raping women ! @police_haryana @DelhiPolice \\\\n\\\\ngoogle.co.uk/amp/s/m.timeso\\\\u2026\", \"id\": 1364150844757860352, \"user\": {\"username\": \"RaviSinghKA\", \"displayname\": \"ravinder singh\", \"id\": 2347762888, \"description\": \"Founder/CEO of Khalsa Aid, Sikh,philanthropist, 20 Years of coordinating aid,humanitarian & passionate about human rights.All views my own:Inc working in Iraq\", \"rawDescription\": \"Founder/CEO of Khalsa Aid, Sikh,philanthropist, 20 Years of coordinating aid,humanitarian & passionate about human rights.All views my own:Inc working in Iraq\", \"descriptionUrls\": [], \"verified\": false, \"created\": \"2014-02-16T23:38:54+00:00\", \"followersCount\": 227423, \"friendsCount\": 4042, \"statusesCount\": 38683, \"favouritesCount\": 30134, \"listedCount\": 212, \"mediaCount\": 4944, \"location\": \"Slough, England \", \"protected\": false, \"linkUrl\": \"http://www.khalsaaid.org\", \"linkTcourl\": \"https://t.co/cgdi8BLkK2\", \"profileImageUrl\": \"https://pbs.twimg.com/profile_images/686526444642643968/bnCPdE7N_normal.jpg\", \"profileBannerUrl\": \"https://pbs.twimg.com/profile_banners/2347762888/1591307489\", \"url\": \"https://twitter.com/RaviSinghKA\"}, \"outlinks\": [\"https://www.google.co.uk/amp/s/m.timesofindia.com/city/chandigarh/was-brutally-thrashed-in-thana-nodeep-kaur-tells-punjab-and-haryana-high-court/amp_articleshow/81164092.cms\"], \"tcooutlinks\": [\"https://t.co/mj1qzF7nGh\"], \"replyCount\": 66, \"retweetCount\": 744, \"likeCount\": 1939, \"quoteCount\": 59, \"conversationId\": 1364150844757860352, \"lang\": \"en\", \"source\": \"<a href=\\\\\"http://twitter.com/download/iphone\\\\\" rel=\\\\\"nofollow\\\\\">Twitter for iPhone</a>\", \"sourceUrl\": \"http://twitter.com/download/iphone\", \"sourceLabel\": \"Twitter for iPhone\", \"media\": null, \"retweetedTweet\": null, \"quotedTweet\": null, \"mentionedUsers\": [{\"username\": \"police_haryana\", \"displayname\": \"Haryana Police\", \"id\": 887564756629966848, \"description\": null, \"rawDescription\": null, \"descriptionUrls\": null, \"verified\": null, \"created\": null, \"followersCount\": null, \"friendsCount\": null, \"statusesCount\": null, \"favouritesCount\": null, \"listedCount\": null, \"mediaCount\": null, \"location\": null, \"protected\": null, \"linkUrl\": null, \"linkTcourl\": null, \"profileImageUrl\": null, \"profileBannerUrl\": null, \"url\": \"https://twitter.com/police_haryana\"}, {\"username\": \"DelhiPolice\", \"displayname\": \"#DilKiPolice Delhi Police\", \"id\": 1850705408, \"description\": null, \"rawDescription\": null, \"descriptionUrls\": null, \"verified\": null, \"created\": null, \"followersCount\": null, \"friendsCount\": null, \"statusesCount\": null, \"favouritesCount\": null, \"listedCount\": null, \"mediaCount\": null, \"location\": null, \"protected\": null, \"linkUrl\": null, \"linkTcourl\": null, \"profileImageUrl\": null, \"profileBannerUrl\": null, \"url\": \"https://twitter.com/DelhiPolice\"}]}, \"mentionedUsers\": [{\"username\": \"narendramodi\", \"displayname\": \"Narendra Modi\", \"id\": 18839785, \"description\": null, \"rawDescription\": null, \"descriptionUrls\": null, \"verified\": null, \"created\": null, \"followersCount\": null, \"friendsCount\": null, \"statusesCount\": null, \"favouritesCount\": null, \"listedCount\": null, \"mediaCount\": null, \"location\": null, \"protected\": null, \"linkUrl\": null, \"linkTcourl\": null, \"profileImageUrl\": null, \"profileBannerUrl\": null, \"url\": \"https://twitter.com/narendramodi\"}, {\"username\": \"DelhiPolice\", \"displayname\": \"#DilKiPolice Delhi Police\", \"id\": 1850705408, \"description\": null, \"rawDescription\": null, \"descriptionUrls\": null, \"verified\": null, \"created\": null, \"followersCount\": null, \"friendsCount\": null, \"statusesCount\": null, \"favouritesCount\": null, \"listedCount\": null, \"mediaCount\": null, \"location\": null, \"protected\": null, \"linkUrl\": null, \"linkTcourl\": null, \"profileImageUrl\": null, \"profileBannerUrl\": null, \"url\": \"https://twitter.com/DelhiPolice\"}]}\\n',\n",
       " '{\"url\": \"https://twitter.com/PrdeepNain/status/1364506237451313155\", \"date\": \"2021-02-24T09:23:32+00:00\", \"content\": \"#FarmersProtest \\\\n#ModiIgnoringFarmersDeaths \\\\n#ModiDontSellFarmers \\\\n@Kisanektamorcha \\\\nFarmers constantly distroying crops throughout India. \\\\nReally, it\\'s hearts breaking...we care about our crops like our children. And govt. agriculture minister is laughing on us\\\\ud83d\\\\ude9c\\\\ud83c\\\\udf3eWE WILL WIN\\\\ud83d\\\\udcaa https://t.co/kLspngG9xE\", \"renderedContent\": \"#FarmersProtest \\\\n#ModiIgnoringFarmersDeaths \\\\n#ModiDontSellFarmers \\\\n@Kisanektamorcha \\\\nFarmers constantly distroying crops throughout India. \\\\nReally, it\\'s hearts breaking...we care about our crops like our children. And govt. agriculture minister is laughing on us\\\\ud83d\\\\ude9c\\\\ud83c\\\\udf3eWE WILL WIN\\\\ud83d\\\\udcaa https://t.co/kLspngG9xE\", \"id\": 1364506237451313155, \"user\": {\"username\": \"PrdeepNain\", \"displayname\": \"Pradeep Nain\", \"id\": 1355092620662329349, \"description\": \"Live in the sunshine where you belong\", \"rawDescription\": \"Live in the sunshine where you belong\", \"descriptionUrls\": [], \"verified\": false, \"created\": \"2021-01-29T09:58:06+00:00\", \"followersCount\": 14, \"friendsCount\": 134, \"statusesCount\": 160, \"favouritesCount\": 240, \"listedCount\": 0, \"mediaCount\": 102, \"location\": \"\", \"protected\": false, \"linkUrl\": null, \"linkTcourl\": null, \"profileImageUrl\": \"https://pbs.twimg.com/profile_images/1364170636264804352/7xfhNn0S_normal.jpg\", \"profileBannerUrl\": \"https://pbs.twimg.com/profile_banners/1355092620662329349/1612611418\", \"url\": \"https://twitter.com/PrdeepNain\"}, \"outlinks\": [], \"tcooutlinks\": [], \"replyCount\": 0, \"retweetCount\": 0, \"likeCount\": 0, \"quoteCount\": 0, \"conversationId\": 1364506237451313155, \"lang\": \"en\", \"source\": \"<a href=\\\\\"http://twitter.com/download/android\\\\\" rel=\\\\\"nofollow\\\\\">Twitter for Android</a>\", \"sourceUrl\": \"http://twitter.com/download/android\", \"sourceLabel\": \"Twitter for Android\", \"media\": [{\"thumbnailUrl\": \"https://pbs.twimg.com/ext_tw_video_thumb/1364506005531361280/pu/img/TlV5WZdUsaU2Qpmy.jpg\", \"variants\": [{\"contentType\": \"video/mp4\", \"url\": \"https://video.twimg.com/ext_tw_video/1364506005531361280/pu/vid/320x580/2EhqHfKscfd1GQnM.mp4?tag=10\", \"bitrate\": 632000}, {\"contentType\": \"application/x-mpegURL\", \"url\": \"https://video.twimg.com/ext_tw_video/1364506005531361280/pu/pl/xKomqeZ_R13sSAq0.m3u8?tag=10\", \"bitrate\": null}], \"duration\": 139.934, \"type\": \"video\"}], \"retweetedTweet\": null, \"quotedTweet\": null, \"mentionedUsers\": [{\"username\": \"Kisanektamorcha\", \"displayname\": \"Kisan Ekta Morcha\", \"id\": 1338536920066879488, \"description\": null, \"rawDescription\": null, \"descriptionUrls\": null, \"verified\": null, \"created\": null, \"followersCount\": null, \"friendsCount\": null, \"statusesCount\": null, \"favouritesCount\": null, \"listedCount\": null, \"mediaCount\": null, \"location\": null, \"protected\": null, \"linkUrl\": null, \"linkTcourl\": null, \"profileImageUrl\": null, \"profileBannerUrl\": null, \"url\": \"https://twitter.com/Kisanektamorcha\"}]}\\n',\n",
       " '{\"url\": \"https://twitter.com/parmarmaninder/status/1364506195453767680\", \"date\": \"2021-02-24T09:23:22+00:00\", \"content\": \"\\\\u0a2a\\\\u0a48\\\\u0a1f\\\\u0a30\\\\u0a4b\\\\u0a32 \\\\u0a26\\\\u0a40\\\\u0a06\\\\u0a02 \\\\u0a15\\\\u0a40\\\\u0a2e\\\\u0a24\\\\u0a3e\\\\u0a02 \\\\u0a28\\\\u0a42\\\\u0a70 \\\\u0a2e\\\\u0a71\\\\u0a26\\\\u0a47\\\\u0a28\\\\u0a1c\\\\u0a3c\\\\u0a30 \\\\u0a30\\\\u0a71\\\\u0a16\\\\u0a26\\\\u0a47 \\\\u0a39\\\\u0a4b\\\\u0a0f \\\\n\\\\u0a2e\\\\u0a47\\\\u0a30\\\\u0a47 \\\\u0a39\\\\u0a3f\\\\u0a38\\\\u0a3e\\\\u0a2c \\\\u0a28\\\\u0a3e\\\\u0a32 \\\\u0a2c\\\\u0a3e\\\\u0a39\\\\u0a30(\\\\u0a2a\\\\u0a4d\\\\u0a30\\\\u0a26\\\\u0a47\\\\u0a38\\\\u0a3c) \\\\u0a1c\\\\u0a3e\\\\u0a23 \\\\u0a28\\\\u0a3e\\\\u0a32\\\\u0a4b\\\\u0a02 \\\\u0a2c\\\\u0a3f\\\\u0a39\\\\u0a24\\\\u0a30 \\\\u0a06 \\\\u0a2d\\\\u0a3e\\\\u0a30\\\\u0a24 \\'\\\\u0a1a \\\\u0a2a\\\\u0a48\\\\u0a1f\\\\u0a30\\\\u0a4b\\\\u0a32 \\\\u0a2a\\\\u0a70\\\\u0a2a \\\\u0a2a\\\\u0a3e \\\\u0a32\\\\u0a08\\\\u0a0f\\\\u0964 \\\\ud83e\\\\udd2b\\\\ud83e\\\\udd2b\\\\ud83e\\\\udd14\\\\ud83e\\\\udd14\\\\n#FarmersProtest\", \"renderedContent\": \"\\\\u0a2a\\\\u0a48\\\\u0a1f\\\\u0a30\\\\u0a4b\\\\u0a32 \\\\u0a26\\\\u0a40\\\\u0a06\\\\u0a02 \\\\u0a15\\\\u0a40\\\\u0a2e\\\\u0a24\\\\u0a3e\\\\u0a02 \\\\u0a28\\\\u0a42\\\\u0a70 \\\\u0a2e\\\\u0a71\\\\u0a26\\\\u0a47\\\\u0a28\\\\u0a1c\\\\u0a3c\\\\u0a30 \\\\u0a30\\\\u0a71\\\\u0a16\\\\u0a26\\\\u0a47 \\\\u0a39\\\\u0a4b\\\\u0a0f \\\\n\\\\u0a2e\\\\u0a47\\\\u0a30\\\\u0a47 \\\\u0a39\\\\u0a3f\\\\u0a38\\\\u0a3e\\\\u0a2c \\\\u0a28\\\\u0a3e\\\\u0a32 \\\\u0a2c\\\\u0a3e\\\\u0a39\\\\u0a30(\\\\u0a2a\\\\u0a4d\\\\u0a30\\\\u0a26\\\\u0a47\\\\u0a38\\\\u0a3c) \\\\u0a1c\\\\u0a3e\\\\u0a23 \\\\u0a28\\\\u0a3e\\\\u0a32\\\\u0a4b\\\\u0a02 \\\\u0a2c\\\\u0a3f\\\\u0a39\\\\u0a24\\\\u0a30 \\\\u0a06 \\\\u0a2d\\\\u0a3e\\\\u0a30\\\\u0a24 \\'\\\\u0a1a \\\\u0a2a\\\\u0a48\\\\u0a1f\\\\u0a30\\\\u0a4b\\\\u0a32 \\\\u0a2a\\\\u0a70\\\\u0a2a \\\\u0a2a\\\\u0a3e \\\\u0a32\\\\u0a08\\\\u0a0f\\\\u0964 \\\\ud83e\\\\udd2b\\\\ud83e\\\\udd2b\\\\ud83e\\\\udd14\\\\ud83e\\\\udd14\\\\n#FarmersProtest\", \"id\": 1364506195453767680, \"user\": {\"username\": \"parmarmaninder\", \"displayname\": \"maninder singh\", \"id\": 476006247, \"description\": \"\\\\u0964\\\\u0964\\\\u0a28\\\\u0a3e\\\\u0a28\\\\u0a15 \\\\u0a28\\\\u0a3e\\\\u0a2e \\\\u0a1a\\\\u0a5c\\\\u0a4d\\\\u0a39\\\\u0a26\\\\u0a40 \\\\u0a15\\\\u0a32\\\\u0a3e \\\\u0a24\\\\u0a47\\\\u0a30\\\\u0a48 \\\\u0a2d\\\\u0a3e\\\\u0a23\\\\u0a48 \\\\u0a38\\\\u0a30\\\\u0a2c\\\\u0a71\\\\u0a24 \\\\u0a26\\\\u0a3e \\\\u0a2d\\\\u0a32\\\\u0a3e\\\\u0964\\\\u0964\", \"rawDescription\": \"\\\\u0964\\\\u0964\\\\u0a28\\\\u0a3e\\\\u0a28\\\\u0a15 \\\\u0a28\\\\u0a3e\\\\u0a2e \\\\u0a1a\\\\u0a5c\\\\u0a4d\\\\u0a39\\\\u0a26\\\\u0a40 \\\\u0a15\\\\u0a32\\\\u0a3e \\\\u0a24\\\\u0a47\\\\u0a30\\\\u0a48 \\\\u0a2d\\\\u0a3e\\\\u0a23\\\\u0a48 \\\\u0a38\\\\u0a30\\\\u0a2c\\\\u0a71\\\\u0a24 \\\\u0a26\\\\u0a3e \\\\u0a2d\\\\u0a32\\\\u0a3e\\\\u0964\\\\u0964\", \"descriptionUrls\": [], \"verified\": false, \"created\": \"2012-01-27T17:30:27+00:00\", \"followersCount\": 72, \"friendsCount\": 151, \"statusesCount\": 2285, \"favouritesCount\": 846, \"listedCount\": 0, \"mediaCount\": 265, \"location\": \"\", \"protected\": false, \"linkUrl\": null, \"linkTcourl\": null, \"profileImageUrl\": \"https://pbs.twimg.com/profile_images/1332977102749052932/tH_XUbMg_normal.jpg\", \"profileBannerUrl\": \"https://pbs.twimg.com/profile_banners/476006247/1613580104\", \"url\": \"https://twitter.com/parmarmaninder\"}, \"outlinks\": [], \"tcooutlinks\": [], \"replyCount\": 0, \"retweetCount\": 0, \"likeCount\": 0, \"quoteCount\": 0, \"conversationId\": 1364506195453767680, \"lang\": \"pa\", \"source\": \"<a href=\\\\\"http://twitter.com/download/android\\\\\" rel=\\\\\"nofollow\\\\\">Twitter for Android</a>\", \"sourceUrl\": \"http://twitter.com/download/android\", \"sourceLabel\": \"Twitter for Android\", \"media\": null, \"retweetedTweet\": null, \"quotedTweet\": null, \"mentionedUsers\": null}\\n',\n",
       " '{\"url\": \"https://twitter.com/anmoldhaliwal/status/1364506167226032128\", \"date\": \"2021-02-24T09:23:16+00:00\", \"content\": \"@ReallySwara @rohini_sgh watch full video here https://t.co/wBPNdJdB0n\\\\n#farmersprotest #NoFarmersNoFood https://t.co/fUsTOKOcXK\", \"renderedContent\": \"@ReallySwara @rohini_sgh watch full video here youtu.be/-bUKumwq-J8\\\\n#farmersprotest #NoFarmersNoFood https://t.co/fUsTOKOcXK\", \"id\": 1364506167226032128, \"user\": {\"username\": \"anmoldhaliwal\", \"displayname\": \"Anmol\", \"id\": 137908912, \"description\": \"coming soon\", \"rawDescription\": \"coming soon\", \"descriptionUrls\": [], \"verified\": false, \"created\": \"2010-04-28T03:12:18+00:00\", \"followersCount\": 51, \"friendsCount\": 27, \"statusesCount\": 228, \"favouritesCount\": 77, \"listedCount\": 0, \"mediaCount\": 12, \"location\": \"Brampton, On\", \"protected\": false, \"linkUrl\": null, \"linkTcourl\": null, \"profileImageUrl\": \"https://pbs.twimg.com/profile_images/1564975143/DSCN0990_-_Copy_-_Copy_normal.JPG\", \"profileBannerUrl\": null, \"url\": \"https://twitter.com/anmoldhaliwal\"}, \"outlinks\": [\"https://youtu.be/-bUKumwq-J8\"], \"tcooutlinks\": [\"https://t.co/wBPNdJdB0n\"], \"replyCount\": 0, \"retweetCount\": 0, \"likeCount\": 0, \"quoteCount\": 0, \"conversationId\": 1364350947099484160, \"lang\": \"en\", \"source\": \"<a href=\\\\\"https://mobile.twitter.com\\\\\" rel=\\\\\"nofollow\\\\\">Twitter Web App</a>\", \"sourceUrl\": \"https://mobile.twitter.com\", \"sourceLabel\": \"Twitter Web App\", \"media\": [{\"thumbnailUrl\": \"https://pbs.twimg.com/ext_tw_video_thumb/1364506093972566023/pu/img/wDpadWHLRoeCv_F7.jpg\", \"variants\": [{\"contentType\": \"video/mp4\", \"url\": \"https://video.twimg.com/ext_tw_video/1364506093972566023/pu/vid/320x566/vmTZxIj53Ak47VJG.mp4?tag=10\", \"bitrate\": 632000}, {\"contentType\": \"video/mp4\", \"url\": \"https://video.twimg.com/ext_tw_video/1364506093972566023/pu/vid/406x720/mCrsdejs_QB5C76h.mp4?tag=10\", \"bitrate\": 832000}, {\"contentType\": \"application/x-mpegURL\", \"url\": \"https://video.twimg.com/ext_tw_video/1364506093972566023/pu/pl/5oFp-iiNuCkC17ce.m3u8?tag=10\", \"bitrate\": null}], \"duration\": 46.375, \"type\": \"video\"}], \"retweetedTweet\": null, \"quotedTweet\": null, \"mentionedUsers\": [{\"username\": \"ReallySwara\", \"displayname\": \"Swara Bhasker\", \"id\": 1546101560, \"description\": null, \"rawDescription\": null, \"descriptionUrls\": null, \"verified\": null, \"created\": null, \"followersCount\": null, \"friendsCount\": null, \"statusesCount\": null, \"favouritesCount\": null, \"listedCount\": null, \"mediaCount\": null, \"location\": null, \"protected\": null, \"linkUrl\": null, \"linkTcourl\": null, \"profileImageUrl\": null, \"profileBannerUrl\": null, \"url\": \"https://twitter.com/ReallySwara\"}, {\"username\": \"rohini_sgh\", \"displayname\": \"Rohini Singh\", \"id\": 267861878, \"description\": null, \"rawDescription\": null, \"descriptionUrls\": null, \"verified\": null, \"created\": null, \"followersCount\": null, \"friendsCount\": null, \"statusesCount\": null, \"favouritesCount\": null, \"listedCount\": null, \"mediaCount\": null, \"location\": null, \"protected\": null, \"linkUrl\": null, \"linkTcourl\": null, \"profileImageUrl\": null, \"profileBannerUrl\": null, \"url\": \"https://twitter.com/rohini_sgh\"}]}\\n',\n",
       " '{\"url\": \"https://twitter.com/KotiaPreet/status/1364506144002088963\", \"date\": \"2021-02-24T09:23:10+00:00\", \"content\": \"#KisanEktaMorcha #FarmersProtest #NoFarmersNoFood https://t.co/g9TYYBHQRH\", \"renderedContent\": \"#KisanEktaMorcha #FarmersProtest #NoFarmersNoFood https://t.co/g9TYYBHQRH\", \"id\": 1364506144002088963, \"user\": {\"username\": \"KotiaPreet\", \"displayname\": \"Preet Kotia\", \"id\": 1358786390696206337, \"description\": \"\", \"rawDescription\": \"\", \"descriptionUrls\": [], \"verified\": false, \"created\": \"2021-02-08T14:35:10+00:00\", \"followersCount\": 5, \"friendsCount\": 23, \"statusesCount\": 9, \"favouritesCount\": 22, \"listedCount\": 0, \"mediaCount\": 6, \"location\": \"\", \"protected\": false, \"linkUrl\": null, \"linkTcourl\": null, \"profileImageUrl\": \"https://pbs.twimg.com/profile_images/1358786653943263232/CssWTw1B_normal.jpg\", \"profileBannerUrl\": \"https://pbs.twimg.com/profile_banners/1358786390696206337/1614008177\", \"url\": \"https://twitter.com/KotiaPreet\"}, \"outlinks\": [], \"tcooutlinks\": [], \"replyCount\": 0, \"retweetCount\": 0, \"likeCount\": 0, \"quoteCount\": 0, \"conversationId\": 1364506144002088963, \"lang\": \"und\", \"source\": \"<a href=\\\\\"http://twitter.com/download/iphone\\\\\" rel=\\\\\"nofollow\\\\\">Twitter for iPhone</a>\", \"sourceUrl\": \"http://twitter.com/download/iphone\", \"sourceLabel\": \"Twitter for iPhone\", \"media\": [{\"previewUrl\": \"https://pbs.twimg.com/media/Eu-zGYfVgAQ3s5_?format=jpg&name=small\", \"fullUrl\": \"https://pbs.twimg.com/media/Eu-zGYfVgAQ3s5_?format=jpg&name=large\", \"type\": \"photo\"}], \"retweetedTweet\": null, \"quotedTweet\": null, \"mentionedUsers\": null}\\n']"
      ]
     },
     "execution_count": 1,
     "metadata": {},
     "output_type": "execute_result"
    }
   ],
   "source": [
    "import polars as pl\n",
    "from io import StringIO, BytesIO\n",
    "\n",
    "file_path = \"farmers-protest-tweets-2021-2-4.json\"\n",
    "with open(file_path, 'r') as farmers_tweets:\n",
    "    json_lines = farmers_tweets.readlines()\n",
    "    text = farmers_tweets.read()\n",
    "\n",
    "json_lines[:5]"
   ]
  },
  {
   "cell_type": "code",
   "execution_count": 2,
   "metadata": {},
   "outputs": [
    {
     "data": {
      "text/plain": [
       "'{\"url\": \"https://twitter.com/ArjunSinghPanam/status/1364506249291784198\", \"date\": \"2021-02-24T09:23:35+00:00\", \"content\": \"The world progresses while the Indian police and Govt are still trying to take India back to the horrific past through its tyranny. \\\\n\\\\n@narendramodi @DelhiPolice Shame on you. \\\\n\\\\n#ModiDontSellFarmers \\\\n#FarmersProtest \\\\n#FreeNodeepKaur https://t.co/es3kn0IQAF\", \"renderedContent\": \"The world progresses while the Indian police and Govt are still trying to take India back to the horrific past through its tyranny. \\\\n\\\\n@narendramodi @DelhiPolice Shame on you. \\\\n\\\\n#ModiDontSellFarmers \\\\n#FarmersProtest \\\\n#FreeNodeepKaur twitter.com/ravisinghka/st\\\\u2026\", \"id\": 1364506249291784198, \"user\": {\"username\": \"ArjunSinghPanam\", \"displayname\": \"Arjun Singh Panam\", \"id\": 45091142, \"description\": \"Global Citizen, Actor, Director: Sky is the roof above my head, the world is the road I travel, love is my food & mother earth is my bed. Roy in @CosmosMovie\", \"rawDescription\": \"Global Citizen, Actor, Director: Sky is the roof above my head, the world is the road I travel, love is my food & mother earth is my bed. Roy in @CosmosMovie\", \"descriptionUrls\": [], \"verified\": false, \"created\": \"2009-06-06T07:50:57+00:00\", \"followersCount\": 603, \"friendsCount\": 311, \"statusesCount\": 17534, \"favouritesCount\": 4269, \"listedCount\": 23, \"mediaCount\": 1211, \"location\": \"\", \"protected\": false, \"linkUrl\": \"https://www.cosmosmovieofficial.com\", \"linkTcourl\": \"https://t.co/3uaoV3gCt3\", \"profileImageUrl\": \"https://pbs.twimg.com/profile_images/1215541746492461056/3De61YoQ_normal.jpg\", \"profileBannerUrl\": \"https://pbs.twimg.com/profile_banners/45091142/1612601766\", \"url\": \"https://twitter.com/ArjunSinghPanam\"}, \"outlinks\": [\"https://twitter.com/ravisinghka/status/1364150844757860352\"], \"tcooutlinks\": [\"https://t.co/es3kn0IQAF\"], \"replyCount\": 0, \"retweetCount\": 0, \"likeCount\": 0, \"quoteCount\": 0, \"conversationId\": 1364506249291784198, \"lang\": \"en\", \"source\": \"<a href=\\\\\"http://twitter.com/download/iphone\\\\\" rel=\\\\\"nofollow\\\\\">Twitter for iPhone</a>\", \"sourceUrl\": \"http://twitter.com/download/iphone\", \"sourceLabel\": \"Twitter for iPhone\", \"media\": null, \"retweetedTweet\": null, \"quotedTweet\": {\"url\": \"https://twitter.com/RaviSinghKA/status/1364150844757860352\", \"date\": \"2021-02-23T09:51:20+00:00\", \"content\": \"This is what the indian police are good at, beating &amp; raping women ! @police_haryana @DelhiPolice \\\\n\\\\nhttps://t.co/mj1qzF7nGh\", \"renderedContent\": \"This is what the indian police are good at, beating &amp; raping women ! @police_haryana @DelhiPolice \\\\n\\\\ngoogle.co.uk/amp/s/m.timeso\\\\u2026\", \"id\": 1364150844757860352, \"user\": {\"username\": \"RaviSinghKA\", \"displayname\": \"ravinder singh\", \"id\": 2347762888, \"description\": \"Founder/CEO of Khalsa Aid, Sikh,philanthropist, 20 Years of coordinating aid,humanitarian & passionate about human rights.All views my own:Inc working in Iraq\", \"rawDescription\": \"Founder/CEO of Khalsa Aid, Sikh,philanthropist, 20 Years of coordinating aid,humanitarian & passionate about human rights.All views my own:Inc working in Iraq\", \"descriptionUrls\": [], \"verified\": false, \"created\": \"2014-02-16T23:38:54+00:00\", \"followersCount\": 227423, \"friendsCount\": 4042, \"statusesCount\": 38683, \"favouritesCount\": 30134, \"listedCount\": 212, \"mediaCount\": 4944, \"location\": \"Slough, England \", \"protected\": false, \"linkUrl\": \"http://www.khalsaaid.org\", \"linkTcourl\": \"https://t.co/cgdi8BLkK2\", \"profileImageUrl\": \"https://pbs.twimg.com/profile_images/686526444642643968/bnCPdE7N_normal.jpg\", \"profileBannerUrl\": \"https://pbs.twimg.com/profile_banners/2347762888/1591307489\", \"url\": \"https://twitter.com/RaviSinghKA\"}, \"outlinks\": [\"https://www.google.co.uk/amp/s/m.timesofindia.com/city/chandigarh/was-brutally-thrashed-in-thana-nodeep-kaur-tells-punjab-and-haryana-high-court/amp_articleshow/81164092.cms\"], \"tcooutlinks\": [\"https://t.co/mj1qzF7nGh\"], \"replyCount\": 66, \"retweetCount\": 744, \"likeCount\": 1939, \"quoteCount\": 59, \"conversationId\": 1364150844757860352, \"lang\": \"en\", \"source\": \"<a href=\\\\\"http://twitter.com/download/iphone\\\\\" rel=\\\\\"nofollow\\\\\">Twitter for iPhone</a>\", \"sourceUrl\": \"http://twitter.com/download/iphone\", \"sourceLabel\": \"Twitter for iPhone\", \"media\": null, \"retweetedTweet\": null, \"quotedTweet\": null, \"mentionedUsers\": [{\"username\": \"police_haryana\", \"displayname\": \"Haryana Police\", \"id\": 887564756629966848, \"description\": null, \"rawDescription\": null, \"descriptionUrls\": null, \"verified\": null, \"created\": null, \"followersCount\": null, \"friendsCount\": null, \"statusesCount\": null, \"favouritesCount\": null, \"listedCount\": null, \"mediaCount\": null, \"location\": null, \"protected\": null, \"linkUrl\": null, \"linkTcourl\": null, \"profileImageUrl\": null, \"profileBannerUrl\": null, \"url\": \"https://twitter.com/police_haryana\"}, {\"username\": \"DelhiPolice\", \"displayname\": \"#DilKiPolice Delhi Police\", \"id\": 1850705408, \"description\": null, \"rawDescription\": null, \"descriptionUrls\": null, \"verified\": null, \"created\": null, \"followersCount\": null, \"friendsCount\": null, \"statusesCount\": null, \"favouritesCount\": null, \"listedCount\": null, \"mediaCount\": null, \"location\": null, \"protected\": null, \"linkUrl\": null, \"linkTcourl\": null, \"profileImageUrl\": null, \"profileBannerUrl\": null, \"url\": \"https://twitter.com/DelhiPolice\"}]}, \"mentionedUsers\": [{\"username\": \"narendramodi\", \"displayname\": \"Narendra Modi\", \"id\": 18839785, \"description\": null, \"rawDescription\": null, \"descriptionUrls\": null, \"verified\": null, \"created\": null, \"followersCount\": null, \"friendsCount\": null, \"statusesCount\": null, \"favouritesCount\": null, \"listedCount\": null, \"mediaCount\": null, \"location\": null, \"protected\": null, \"linkUrl\": null, \"linkTcourl\": null, \"profileImageUrl\": null, \"profileBannerUrl\": null, \"url\": \"https://twitter.com/narendramodi\"}, {\"username\": \"DelhiPolice\", \"displayname\": \"#DilKiPolice Delhi Police\", \"id\": 1850705408, \"description\": null, \"rawDescription\": null, \"descriptionUrls\": null, \"verified\": null, \"created\": null, \"followersCount\": null, \"friendsCount\": null, \"statusesCount\": null, \"favouritesCount\": null, \"listedCount\": null, \"mediaCount\": null, \"location\": null, \"protected\": null, \"linkUrl\": null, \"linkTcourl\": null, \"profileImageUrl\": null, \"profileBannerUrl\": null, \"url\": \"https://twitter.com/DelhiPolice\"}]}\\n'"
      ]
     },
     "execution_count": 2,
     "metadata": {},
     "output_type": "execute_result"
    }
   ],
   "source": [
    "first_line = json_lines[0]\n",
    "first_line"
   ]
  },
  {
   "cell_type": "code",
   "execution_count": 3,
   "metadata": {},
   "outputs": [
    {
     "data": {
      "text/plain": [
       "(6302, 6267)"
      ]
     },
     "execution_count": 3,
     "metadata": {},
     "output_type": "execute_result"
    }
   ],
   "source": [
    "line1 = '{\"url\": \"https://twitter.com/ArjunSinghPanam/status/1364506249291784198\", \"date\": \"2021-02-24T09:23:35+00:00\", \"content\": \"The world progresses while the Indian police and Govt are still trying to take India back to the horrific past through its tyranny. \\n\\n@narendramodi @DelhiPolice Shame on you. \\n\\n#ModiDontSellFarmers \\n#FarmersProtest \\n#FreeNodeepKaur https://t.co/es3kn0IQAF\", \"renderedContent\": \"The world progresses while the Indian police and Govt are still trying to take India back to the horrific past through its tyranny. \\n\\n@narendramodi @DelhiPolice Shame on you. \\n\\n#ModiDontSellFarmers \\n#FarmersProtest \\n#FreeNodeepKaur twitter.com/ravisinghka/st\\u2026\", \"id\": 1364506249291784198, \"user\": {\"username\": \"ArjunSinghPanam\", \"displayname\": \"Arjun Singh Panam\", \"id\": 45091142, \"description\": \"Global Citizen, Actor, Director: Sky is the roof above my head, the world is the road I travel, love is my food & mother earth is my bed. Roy in @CosmosMovie\", \"rawDescription\": \"Global Citizen, Actor, Director: Sky is the roof above my head, the world is the road I travel, love is my food & mother earth is my bed. Roy in @CosmosMovie\", \"descriptionUrls\": [], \"verified\": false, \"created\": \"2009-06-06T07:50:57+00:00\", \"followersCount\": 603, \"friendsCount\": 311, \"statusesCount\": 17534, \"favouritesCount\": 4269, \"listedCount\": 23, \"mediaCount\": 1211, \"location\": \"\", \"protected\": false, \"linkUrl\": \"https://www.cosmosmovieofficial.com\", \"linkTcourl\": \"https://t.co/3uaoV3gCt3\", \"profileImageUrl\": \"https://pbs.twimg.com/profile_images/1215541746492461056/3De61YoQ_normal.jpg\", \"profileBannerUrl\": \"https://pbs.twimg.com/profile_banners/45091142/1612601766\", \"url\": \"https://twitter.com/ArjunSinghPanam\"}, \"outlinks\": [\"https://twitter.com/ravisinghka/status/1364150844757860352\"], \"tcooutlinks\": [\"https://t.co/es3kn0IQAF\"], \"replyCount\": 0, \"retweetCount\": 0, \"likeCount\": 0, \"quoteCount\": 0, \"conversationId\": 1364506249291784198, \"lang\": \"en\", \"source\": \"<a href=\\\"http://twitter.com/download/iphone\\\" rel=\\\"nofollow\\\">Twitter for iPhone</a>\", \"sourceUrl\": \"http://twitter.com/download/iphone\", \"sourceLabel\": \"Twitter for iPhone\", \"media\": null, \"retweetedTweet\": null, \"quotedTweet\": {\"url\": \"https://twitter.com/RaviSinghKA/status/1364150844757860352\", \"date\": \"2021-02-23T09:51:20+00:00\", \"content\": \"This is what the indian police are good at, beating &amp; raping women ! @police_haryana @DelhiPolice \\n\\nhttps://t.co/mj1qzF7nGh\", \"renderedContent\": \"This is what the indian police are good at, beating &amp; raping women ! @police_haryana @DelhiPolice \\n\\ngoogle.co.uk/amp/s/m.timeso\\u2026\", \"id\": 1364150844757860352, \"user\": {\"username\": \"RaviSinghKA\", \"displayname\": \"ravinder singh\", \"id\": 2347762888, \"description\": \"Founder/CEO of Khalsa Aid, Sikh,philanthropist, 20 Years of coordinating aid,humanitarian & passionate about human rights.All views my own:Inc working in Iraq\", \"rawDescription\": \"Founder/CEO of Khalsa Aid, Sikh,philanthropist, 20 Years of coordinating aid,humanitarian & passionate about human rights.All views my own:Inc working in Iraq\", \"descriptionUrls\": [], \"verified\": false, \"created\": \"2014-02-16T23:38:54+00:00\", \"followersCount\": 227423, \"friendsCount\": 4042, \"statusesCount\": 38683, \"favouritesCount\": 30134, \"listedCount\": 212, \"mediaCount\": 4944, \"location\": \"Slough, England \", \"protected\": false, \"linkUrl\": \"http://www.khalsaaid.org\", \"linkTcourl\": \"https://t.co/cgdi8BLkK2\", \"profileImageUrl\": \"https://pbs.twimg.com/profile_images/686526444642643968/bnCPdE7N_normal.jpg\", \"profileBannerUrl\": \"https://pbs.twimg.com/profile_banners/2347762888/1591307489\", \"url\": \"https://twitter.com/RaviSinghKA\"}, \"outlinks\": [\"https://www.google.co.uk/amp/s/m.timesofindia.com/city/chandigarh/was-brutally-thrashed-in-thana-nodeep-kaur-tells-punjab-and-haryana-high-court/amp_articleshow/81164092.cms\"], \"tcooutlinks\": [\"https://t.co/mj1qzF7nGh\"], \"replyCount\": 66, \"retweetCount\": 744, \"likeCount\": 1939, \"quoteCount\": 59, \"conversationId\": 1364150844757860352, \"lang\": \"en\", \"source\": \"<a href=\\\"http://twitter.com/download/iphone\\\" rel=\\\"nofollow\\\">Twitter for iPhone</a>\", \"sourceUrl\": \"http://twitter.com/download/iphone\", \"sourceLabel\": \"Twitter for iPhone\", \"media\": null, \"retweetedTweet\": null, \"quotedTweet\": null, \"mentionedUsers\": [{\"username\": \"police_haryana\", \"displayname\": \"Haryana Police\", \"id\": 887564756629966848, \"description\": null, \"rawDescription\": null, \"descriptionUrls\": null, \"verified\": null, \"created\": null, \"followersCount\": null, \"friendsCount\": null, \"statusesCount\": null, \"favouritesCount\": null, \"listedCount\": null, \"mediaCount\": null, \"location\": null, \"protected\": null, \"linkUrl\": null, \"linkTcourl\": null, \"profileImageUrl\": null, \"profileBannerUrl\": null, \"url\": \"https://twitter.com/police_haryana\"}, {\"username\": \"DelhiPolice\", \"displayname\": \"#DilKiPolice Delhi Police\", \"id\": 1850705408, \"description\": null, \"rawDescription\": null, \"descriptionUrls\": null, \"verified\": null, \"created\": null, \"followersCount\": null, \"friendsCount\": null, \"statusesCount\": null, \"favouritesCount\": null, \"listedCount\": null, \"mediaCount\": null, \"location\": null, \"protected\": null, \"linkUrl\": null, \"linkTcourl\": null, \"profileImageUrl\": null, \"profileBannerUrl\": null, \"url\": \"https://twitter.com/DelhiPolice\"}]}, \"mentionedUsers\": [{\"username\": \"narendramodi\", \"displayname\": \"Narendra Modi\", \"id\": 18839785, \"description\": null, \"rawDescription\": null, \"descriptionUrls\": null, \"verified\": null, \"created\": null, \"followersCount\": null, \"friendsCount\": null, \"statusesCount\": null, \"favouritesCount\": null, \"listedCount\": null, \"mediaCount\": null, \"location\": null, \"protected\": null, \"linkUrl\": null, \"linkTcourl\": null, \"profileImageUrl\": null, \"profileBannerUrl\": null, \"url\": \"https://twitter.com/narendramodi\"}, {\"username\": \"DelhiPolice\", \"displayname\": \"#DilKiPolice Delhi Police\", \"id\": 1850705408, \"description\": null, \"rawDescription\": null, \"descriptionUrls\": null, \"verified\": null, \"created\": null, \"followersCount\": null, \"friendsCount\": null, \"statusesCount\": null, \"favouritesCount\": null, \"listedCount\": null, \"mediaCount\": null, \"location\": null, \"protected\": null, \"linkUrl\": null, \"linkTcourl\": null, \"profileImageUrl\": null, \"profileBannerUrl\": null, \"url\": \"https://twitter.com/DelhiPolice\"}]}'\n",
    "len(first_line), len(line1)"
   ]
  },
  {
   "cell_type": "code",
   "execution_count": 7,
   "metadata": {},
   "outputs": [
    {
     "ename": "OSError",
     "evalue": "El nombre de archivo, el nombre de directorio o la sintaxis de la etiqueta del volumen no son correctos. (os error 123): ...eImageUrl\": null, \"profileBannerUrl\": null, \"url\": \"https://twitter.com/DelhiPolice\"}]}\n",
     "output_type": "error",
     "traceback": [
      "\u001b[1;31m---------------------------------------------------------------------------\u001b[0m",
      "\u001b[1;31mOSError\u001b[0m                                   Traceback (most recent call last)",
      "Input \u001b[1;32mIn [7]\u001b[0m, in \u001b[0;36m<cell line: 1>\u001b[1;34m()\u001b[0m\n\u001b[1;32m----> 1\u001b[0m \u001b[43mpl\u001b[49m\u001b[38;5;241;43m.\u001b[39;49m\u001b[43mread_json\u001b[49m\u001b[43m(\u001b[49m\u001b[43mfirst_line\u001b[49m\u001b[43m)\u001b[49m\n",
      "File \u001b[1;32mc:\\Users\\migue\\AppData\\Local\\Programs\\Python\\Python310\\lib\\site-packages\\polars\\io\\json\\read.py:96\u001b[0m, in \u001b[0;36mread_json\u001b[1;34m(source, schema, schema_overrides, infer_schema_length)\u001b[0m\n\u001b[0;32m     93\u001b[0m \u001b[38;5;28;01melif\u001b[39;00m \u001b[38;5;28misinstance\u001b[39m(source, (\u001b[38;5;28mstr\u001b[39m, Path)):\n\u001b[0;32m     94\u001b[0m     source \u001b[38;5;241m=\u001b[39m normalize_filepath(source)\n\u001b[1;32m---> 96\u001b[0m pydf \u001b[38;5;241m=\u001b[39m \u001b[43mPyDataFrame\u001b[49m\u001b[38;5;241;43m.\u001b[39;49m\u001b[43mread_json\u001b[49m\u001b[43m(\u001b[49m\n\u001b[0;32m     97\u001b[0m \u001b[43m    \u001b[49m\u001b[43msource\u001b[49m\u001b[43m,\u001b[49m\n\u001b[0;32m     98\u001b[0m \u001b[43m    \u001b[49m\u001b[43minfer_schema_length\u001b[49m\u001b[38;5;241;43m=\u001b[39;49m\u001b[43minfer_schema_length\u001b[49m\u001b[43m,\u001b[49m\n\u001b[0;32m     99\u001b[0m \u001b[43m    \u001b[49m\u001b[43mschema\u001b[49m\u001b[38;5;241;43m=\u001b[39;49m\u001b[43mschema\u001b[49m\u001b[43m,\u001b[49m\n\u001b[0;32m    100\u001b[0m \u001b[43m    \u001b[49m\u001b[43mschema_overrides\u001b[49m\u001b[38;5;241;43m=\u001b[39;49m\u001b[43mschema_overrides\u001b[49m\u001b[43m,\u001b[49m\n\u001b[0;32m    101\u001b[0m \u001b[43m\u001b[49m\u001b[43m)\u001b[49m\n\u001b[0;32m    102\u001b[0m \u001b[38;5;28;01mreturn\u001b[39;00m wrap_df(pydf)\n",
      "\u001b[1;31mOSError\u001b[0m: El nombre de archivo, el nombre de directorio o la sintaxis de la etiqueta del volumen no son correctos. (os error 123): ...eImageUrl\": null, \"profileBannerUrl\": null, \"url\": \"https://twitter.com/DelhiPolice\"}]}\n"
     ]
    }
   ],
   "source": [
    "pl.read_json(first_line)"
   ]
  },
  {
   "cell_type": "markdown",
   "metadata": {},
   "source": [
    "No se puede leer directamente con polars debido a que el json contiene diccionarios anidados."
   ]
  },
  {
   "cell_type": "code",
   "execution_count": 4,
   "metadata": {},
   "outputs": [],
   "source": [
    "cols = ['url', 'date', 'content', 'renderedContent', 'id', 'user', 'outlinks',\n",
    "       'tcooutlinks', 'replyCount', 'retweetCount', 'likeCount', 'quoteCount',\n",
    "       'conversationId', 'lang', 'source', 'sourceUrl', 'sourceLabel', 'media',\n",
    "       'retweetedTweet', 'quotedTweet', 'mentionedUsers']"
   ]
  },
  {
   "cell_type": "markdown",
   "metadata": {},
   "source": [
    "Fallo polars, se intentará con json.loads"
   ]
  },
  {
   "cell_type": "code",
   "execution_count": 8,
   "metadata": {},
   "outputs": [],
   "source": [
    "import polars as pl\n",
    "import json\n",
    "\n",
    "file_path = \"farmers-protest-tweets-2021-2-4.json\""
   ]
  },
  {
   "cell_type": "code",
   "execution_count": 9,
   "metadata": {},
   "outputs": [
    {
     "ename": "JSONDecodeError",
     "evalue": "Extra data: line 2 column 1 (char 6302)",
     "output_type": "error",
     "traceback": [
      "\u001b[1;31m---------------------------------------------------------------------------\u001b[0m",
      "\u001b[1;31mJSONDecodeError\u001b[0m                           Traceback (most recent call last)",
      "Input \u001b[1;32mIn [9]\u001b[0m, in \u001b[0;36m<cell line: 1>\u001b[1;34m()\u001b[0m\n\u001b[0;32m      1\u001b[0m \u001b[38;5;28;01mwith\u001b[39;00m \u001b[38;5;28mopen\u001b[39m(file_path, \u001b[38;5;124m'\u001b[39m\u001b[38;5;124mr\u001b[39m\u001b[38;5;124m'\u001b[39m) \u001b[38;5;28;01mas\u001b[39;00m farmers_tweets:\n\u001b[1;32m----> 2\u001b[0m     json_obj \u001b[38;5;241m=\u001b[39m \u001b[43mjson\u001b[49m\u001b[38;5;241;43m.\u001b[39;49m\u001b[43mload\u001b[49m\u001b[43m(\u001b[49m\u001b[43mfarmers_tweets\u001b[49m\u001b[43m)\u001b[49m\n\u001b[0;32m      4\u001b[0m json_obj\n",
      "File \u001b[1;32mc:\\Users\\migue\\AppData\\Local\\Programs\\Python\\Python310\\lib\\json\\__init__.py:293\u001b[0m, in \u001b[0;36mload\u001b[1;34m(fp, cls, object_hook, parse_float, parse_int, parse_constant, object_pairs_hook, **kw)\u001b[0m\n\u001b[0;32m    274\u001b[0m \u001b[38;5;28;01mdef\u001b[39;00m \u001b[38;5;21mload\u001b[39m(fp, \u001b[38;5;241m*\u001b[39m, \u001b[38;5;28mcls\u001b[39m\u001b[38;5;241m=\u001b[39m\u001b[38;5;28;01mNone\u001b[39;00m, object_hook\u001b[38;5;241m=\u001b[39m\u001b[38;5;28;01mNone\u001b[39;00m, parse_float\u001b[38;5;241m=\u001b[39m\u001b[38;5;28;01mNone\u001b[39;00m,\n\u001b[0;32m    275\u001b[0m         parse_int\u001b[38;5;241m=\u001b[39m\u001b[38;5;28;01mNone\u001b[39;00m, parse_constant\u001b[38;5;241m=\u001b[39m\u001b[38;5;28;01mNone\u001b[39;00m, object_pairs_hook\u001b[38;5;241m=\u001b[39m\u001b[38;5;28;01mNone\u001b[39;00m, \u001b[38;5;241m*\u001b[39m\u001b[38;5;241m*\u001b[39mkw):\n\u001b[0;32m    276\u001b[0m     \u001b[38;5;124;03m\"\"\"Deserialize ``fp`` (a ``.read()``-supporting file-like object containing\u001b[39;00m\n\u001b[0;32m    277\u001b[0m \u001b[38;5;124;03m    a JSON document) to a Python object.\u001b[39;00m\n\u001b[0;32m    278\u001b[0m \n\u001b[1;32m   (...)\u001b[0m\n\u001b[0;32m    291\u001b[0m \u001b[38;5;124;03m    kwarg; otherwise ``JSONDecoder`` is used.\u001b[39;00m\n\u001b[0;32m    292\u001b[0m \u001b[38;5;124;03m    \"\"\"\u001b[39;00m\n\u001b[1;32m--> 293\u001b[0m     \u001b[38;5;28;01mreturn\u001b[39;00m loads(fp\u001b[38;5;241m.\u001b[39mread(),\n\u001b[0;32m    294\u001b[0m         \u001b[38;5;28mcls\u001b[39m\u001b[38;5;241m=\u001b[39m\u001b[38;5;28mcls\u001b[39m, object_hook\u001b[38;5;241m=\u001b[39mobject_hook,\n\u001b[0;32m    295\u001b[0m         parse_float\u001b[38;5;241m=\u001b[39mparse_float, parse_int\u001b[38;5;241m=\u001b[39mparse_int,\n\u001b[0;32m    296\u001b[0m         parse_constant\u001b[38;5;241m=\u001b[39mparse_constant, object_pairs_hook\u001b[38;5;241m=\u001b[39mobject_pairs_hook, \u001b[38;5;241m*\u001b[39m\u001b[38;5;241m*\u001b[39mkw)\n",
      "File \u001b[1;32mc:\\Users\\migue\\AppData\\Local\\Programs\\Python\\Python310\\lib\\json\\__init__.py:346\u001b[0m, in \u001b[0;36mloads\u001b[1;34m(s, cls, object_hook, parse_float, parse_int, parse_constant, object_pairs_hook, **kw)\u001b[0m\n\u001b[0;32m    341\u001b[0m     s \u001b[38;5;241m=\u001b[39m s\u001b[38;5;241m.\u001b[39mdecode(detect_encoding(s), \u001b[38;5;124m'\u001b[39m\u001b[38;5;124msurrogatepass\u001b[39m\u001b[38;5;124m'\u001b[39m)\n\u001b[0;32m    343\u001b[0m \u001b[38;5;28;01mif\u001b[39;00m (\u001b[38;5;28mcls\u001b[39m \u001b[38;5;129;01mis\u001b[39;00m \u001b[38;5;28;01mNone\u001b[39;00m \u001b[38;5;129;01mand\u001b[39;00m object_hook \u001b[38;5;129;01mis\u001b[39;00m \u001b[38;5;28;01mNone\u001b[39;00m \u001b[38;5;129;01mand\u001b[39;00m\n\u001b[0;32m    344\u001b[0m         parse_int \u001b[38;5;129;01mis\u001b[39;00m \u001b[38;5;28;01mNone\u001b[39;00m \u001b[38;5;129;01mand\u001b[39;00m parse_float \u001b[38;5;129;01mis\u001b[39;00m \u001b[38;5;28;01mNone\u001b[39;00m \u001b[38;5;129;01mand\u001b[39;00m\n\u001b[0;32m    345\u001b[0m         parse_constant \u001b[38;5;129;01mis\u001b[39;00m \u001b[38;5;28;01mNone\u001b[39;00m \u001b[38;5;129;01mand\u001b[39;00m object_pairs_hook \u001b[38;5;129;01mis\u001b[39;00m \u001b[38;5;28;01mNone\u001b[39;00m \u001b[38;5;129;01mand\u001b[39;00m \u001b[38;5;129;01mnot\u001b[39;00m kw):\n\u001b[1;32m--> 346\u001b[0m     \u001b[38;5;28;01mreturn\u001b[39;00m \u001b[43m_default_decoder\u001b[49m\u001b[38;5;241;43m.\u001b[39;49m\u001b[43mdecode\u001b[49m\u001b[43m(\u001b[49m\u001b[43ms\u001b[49m\u001b[43m)\u001b[49m\n\u001b[0;32m    347\u001b[0m \u001b[38;5;28;01mif\u001b[39;00m \u001b[38;5;28mcls\u001b[39m \u001b[38;5;129;01mis\u001b[39;00m \u001b[38;5;28;01mNone\u001b[39;00m:\n\u001b[0;32m    348\u001b[0m     \u001b[38;5;28mcls\u001b[39m \u001b[38;5;241m=\u001b[39m JSONDecoder\n",
      "File \u001b[1;32mc:\\Users\\migue\\AppData\\Local\\Programs\\Python\\Python310\\lib\\json\\decoder.py:340\u001b[0m, in \u001b[0;36mJSONDecoder.decode\u001b[1;34m(self, s, _w)\u001b[0m\n\u001b[0;32m    338\u001b[0m end \u001b[38;5;241m=\u001b[39m _w(s, end)\u001b[38;5;241m.\u001b[39mend()\n\u001b[0;32m    339\u001b[0m \u001b[38;5;28;01mif\u001b[39;00m end \u001b[38;5;241m!=\u001b[39m \u001b[38;5;28mlen\u001b[39m(s):\n\u001b[1;32m--> 340\u001b[0m     \u001b[38;5;28;01mraise\u001b[39;00m JSONDecodeError(\u001b[38;5;124m\"\u001b[39m\u001b[38;5;124mExtra data\u001b[39m\u001b[38;5;124m\"\u001b[39m, s, end)\n\u001b[0;32m    341\u001b[0m \u001b[38;5;28;01mreturn\u001b[39;00m obj\n",
      "\u001b[1;31mJSONDecodeError\u001b[0m: Extra data: line 2 column 1 (char 6302)"
     ]
    }
   ],
   "source": [
    "with open(file_path, 'r') as farmers_tweets:\n",
    "    json_obj = json.load(farmers_tweets)\n",
    "\n",
    "json_obj"
   ]
  },
  {
   "cell_type": "markdown",
   "metadata": {},
   "source": [
    "Json load tampoco sirve, porque es un json separado por lineas. \n",
    "Por lo tanto la única manera es leer el json linea por linea y despues concatenarlo con polars."
   ]
  },
  {
   "cell_type": "code",
   "execution_count": 10,
   "metadata": {},
   "outputs": [
    {
     "data": {
      "text/plain": [
       "[{'url': 'https://twitter.com/ArjunSinghPanam/status/1364506249291784198',\n",
       "  'date': '2021-02-24T09:23:35+00:00',\n",
       "  'content': 'The world progresses while the Indian police and Govt are still trying to take India back to the horrific past through its tyranny. \\n\\n@narendramodi @DelhiPolice Shame on you. \\n\\n#ModiDontSellFarmers \\n#FarmersProtest \\n#FreeNodeepKaur https://t.co/es3kn0IQAF',\n",
       "  'renderedContent': 'The world progresses while the Indian police and Govt are still trying to take India back to the horrific past through its tyranny. \\n\\n@narendramodi @DelhiPolice Shame on you. \\n\\n#ModiDontSellFarmers \\n#FarmersProtest \\n#FreeNodeepKaur twitter.com/ravisinghka/st…',\n",
       "  'id': 1364506249291784198,\n",
       "  'user': {'username': 'ArjunSinghPanam',\n",
       "   'displayname': 'Arjun Singh Panam',\n",
       "   'id': 45091142,\n",
       "   'description': 'Global Citizen, Actor, Director: Sky is the roof above my head, the world is the road I travel, love is my food & mother earth is my bed. Roy in @CosmosMovie',\n",
       "   'rawDescription': 'Global Citizen, Actor, Director: Sky is the roof above my head, the world is the road I travel, love is my food & mother earth is my bed. Roy in @CosmosMovie',\n",
       "   'descriptionUrls': [],\n",
       "   'verified': False,\n",
       "   'created': '2009-06-06T07:50:57+00:00',\n",
       "   'followersCount': 603,\n",
       "   'friendsCount': 311,\n",
       "   'statusesCount': 17534,\n",
       "   'favouritesCount': 4269,\n",
       "   'listedCount': 23,\n",
       "   'mediaCount': 1211,\n",
       "   'location': '',\n",
       "   'protected': False,\n",
       "   'linkUrl': 'https://www.cosmosmovieofficial.com',\n",
       "   'linkTcourl': 'https://t.co/3uaoV3gCt3',\n",
       "   'profileImageUrl': 'https://pbs.twimg.com/profile_images/1215541746492461056/3De61YoQ_normal.jpg',\n",
       "   'profileBannerUrl': 'https://pbs.twimg.com/profile_banners/45091142/1612601766',\n",
       "   'url': 'https://twitter.com/ArjunSinghPanam'},\n",
       "  'outlinks': ['https://twitter.com/ravisinghka/status/1364150844757860352'],\n",
       "  'tcooutlinks': ['https://t.co/es3kn0IQAF'],\n",
       "  'replyCount': 0,\n",
       "  'retweetCount': 0,\n",
       "  'likeCount': 0,\n",
       "  'quoteCount': 0,\n",
       "  'conversationId': 1364506249291784198,\n",
       "  'lang': 'en',\n",
       "  'source': '<a href=\"http://twitter.com/download/iphone\" rel=\"nofollow\">Twitter for iPhone</a>',\n",
       "  'sourceUrl': 'http://twitter.com/download/iphone',\n",
       "  'sourceLabel': 'Twitter for iPhone',\n",
       "  'media': None,\n",
       "  'retweetedTweet': None,\n",
       "  'quotedTweet': {'url': 'https://twitter.com/RaviSinghKA/status/1364150844757860352',\n",
       "   'date': '2021-02-23T09:51:20+00:00',\n",
       "   'content': 'This is what the indian police are good at, beating &amp; raping women ! @police_haryana @DelhiPolice \\n\\nhttps://t.co/mj1qzF7nGh',\n",
       "   'renderedContent': 'This is what the indian police are good at, beating &amp; raping women ! @police_haryana @DelhiPolice \\n\\ngoogle.co.uk/amp/s/m.timeso…',\n",
       "   'id': 1364150844757860352,\n",
       "   'user': {'username': 'RaviSinghKA',\n",
       "    'displayname': 'ravinder singh',\n",
       "    'id': 2347762888,\n",
       "    'description': 'Founder/CEO of Khalsa Aid, Sikh,philanthropist, 20 Years of coordinating aid,humanitarian & passionate about human rights.All views my own:Inc working in Iraq',\n",
       "    'rawDescription': 'Founder/CEO of Khalsa Aid, Sikh,philanthropist, 20 Years of coordinating aid,humanitarian & passionate about human rights.All views my own:Inc working in Iraq',\n",
       "    'descriptionUrls': [],\n",
       "    'verified': False,\n",
       "    'created': '2014-02-16T23:38:54+00:00',\n",
       "    'followersCount': 227423,\n",
       "    'friendsCount': 4042,\n",
       "    'statusesCount': 38683,\n",
       "    'favouritesCount': 30134,\n",
       "    'listedCount': 212,\n",
       "    'mediaCount': 4944,\n",
       "    'location': 'Slough, England ',\n",
       "    'protected': False,\n",
       "    'linkUrl': 'http://www.khalsaaid.org',\n",
       "    'linkTcourl': 'https://t.co/cgdi8BLkK2',\n",
       "    'profileImageUrl': 'https://pbs.twimg.com/profile_images/686526444642643968/bnCPdE7N_normal.jpg',\n",
       "    'profileBannerUrl': 'https://pbs.twimg.com/profile_banners/2347762888/1591307489',\n",
       "    'url': 'https://twitter.com/RaviSinghKA'},\n",
       "   'outlinks': ['https://www.google.co.uk/amp/s/m.timesofindia.com/city/chandigarh/was-brutally-thrashed-in-thana-nodeep-kaur-tells-punjab-and-haryana-high-court/amp_articleshow/81164092.cms'],\n",
       "   'tcooutlinks': ['https://t.co/mj1qzF7nGh'],\n",
       "   'replyCount': 66,\n",
       "   'retweetCount': 744,\n",
       "   'likeCount': 1939,\n",
       "   'quoteCount': 59,\n",
       "   'conversationId': 1364150844757860352,\n",
       "   'lang': 'en',\n",
       "   'source': '<a href=\"http://twitter.com/download/iphone\" rel=\"nofollow\">Twitter for iPhone</a>',\n",
       "   'sourceUrl': 'http://twitter.com/download/iphone',\n",
       "   'sourceLabel': 'Twitter for iPhone',\n",
       "   'media': None,\n",
       "   'retweetedTweet': None,\n",
       "   'quotedTweet': None,\n",
       "   'mentionedUsers': [{'username': 'police_haryana',\n",
       "     'displayname': 'Haryana Police',\n",
       "     'id': 887564756629966848,\n",
       "     'description': None,\n",
       "     'rawDescription': None,\n",
       "     'descriptionUrls': None,\n",
       "     'verified': None,\n",
       "     'created': None,\n",
       "     'followersCount': None,\n",
       "     'friendsCount': None,\n",
       "     'statusesCount': None,\n",
       "     'favouritesCount': None,\n",
       "     'listedCount': None,\n",
       "     'mediaCount': None,\n",
       "     'location': None,\n",
       "     'protected': None,\n",
       "     'linkUrl': None,\n",
       "     'linkTcourl': None,\n",
       "     'profileImageUrl': None,\n",
       "     'profileBannerUrl': None,\n",
       "     'url': 'https://twitter.com/police_haryana'},\n",
       "    {'username': 'DelhiPolice',\n",
       "     'displayname': '#DilKiPolice Delhi Police',\n",
       "     'id': 1850705408,\n",
       "     'description': None,\n",
       "     'rawDescription': None,\n",
       "     'descriptionUrls': None,\n",
       "     'verified': None,\n",
       "     'created': None,\n",
       "     'followersCount': None,\n",
       "     'friendsCount': None,\n",
       "     'statusesCount': None,\n",
       "     'favouritesCount': None,\n",
       "     'listedCount': None,\n",
       "     'mediaCount': None,\n",
       "     'location': None,\n",
       "     'protected': None,\n",
       "     'linkUrl': None,\n",
       "     'linkTcourl': None,\n",
       "     'profileImageUrl': None,\n",
       "     'profileBannerUrl': None,\n",
       "     'url': 'https://twitter.com/DelhiPolice'}]},\n",
       "  'mentionedUsers': [{'username': 'narendramodi',\n",
       "    'displayname': 'Narendra Modi',\n",
       "    'id': 18839785,\n",
       "    'description': None,\n",
       "    'rawDescription': None,\n",
       "    'descriptionUrls': None,\n",
       "    'verified': None,\n",
       "    'created': None,\n",
       "    'followersCount': None,\n",
       "    'friendsCount': None,\n",
       "    'statusesCount': None,\n",
       "    'favouritesCount': None,\n",
       "    'listedCount': None,\n",
       "    'mediaCount': None,\n",
       "    'location': None,\n",
       "    'protected': None,\n",
       "    'linkUrl': None,\n",
       "    'linkTcourl': None,\n",
       "    'profileImageUrl': None,\n",
       "    'profileBannerUrl': None,\n",
       "    'url': 'https://twitter.com/narendramodi'},\n",
       "   {'username': 'DelhiPolice',\n",
       "    'displayname': '#DilKiPolice Delhi Police',\n",
       "    'id': 1850705408,\n",
       "    'description': None,\n",
       "    'rawDescription': None,\n",
       "    'descriptionUrls': None,\n",
       "    'verified': None,\n",
       "    'created': None,\n",
       "    'followersCount': None,\n",
       "    'friendsCount': None,\n",
       "    'statusesCount': None,\n",
       "    'favouritesCount': None,\n",
       "    'listedCount': None,\n",
       "    'mediaCount': None,\n",
       "    'location': None,\n",
       "    'protected': None,\n",
       "    'linkUrl': None,\n",
       "    'linkTcourl': None,\n",
       "    'profileImageUrl': None,\n",
       "    'profileBannerUrl': None,\n",
       "    'url': 'https://twitter.com/DelhiPolice'}]},\n",
       " {'url': 'https://twitter.com/PrdeepNain/status/1364506237451313155',\n",
       "  'date': '2021-02-24T09:23:32+00:00',\n",
       "  'content': \"#FarmersProtest \\n#ModiIgnoringFarmersDeaths \\n#ModiDontSellFarmers \\n@Kisanektamorcha \\nFarmers constantly distroying crops throughout India. \\nReally, it's hearts breaking...we care about our crops like our children. And govt. agriculture minister is laughing on us🚜🌾WE WILL WIN💪 https://t.co/kLspngG9xE\",\n",
       "  'renderedContent': \"#FarmersProtest \\n#ModiIgnoringFarmersDeaths \\n#ModiDontSellFarmers \\n@Kisanektamorcha \\nFarmers constantly distroying crops throughout India. \\nReally, it's hearts breaking...we care about our crops like our children. And govt. agriculture minister is laughing on us🚜🌾WE WILL WIN💪 https://t.co/kLspngG9xE\",\n",
       "  'id': 1364506237451313155,\n",
       "  'user': {'username': 'PrdeepNain',\n",
       "   'displayname': 'Pradeep Nain',\n",
       "   'id': 1355092620662329349,\n",
       "   'description': 'Live in the sunshine where you belong',\n",
       "   'rawDescription': 'Live in the sunshine where you belong',\n",
       "   'descriptionUrls': [],\n",
       "   'verified': False,\n",
       "   'created': '2021-01-29T09:58:06+00:00',\n",
       "   'followersCount': 14,\n",
       "   'friendsCount': 134,\n",
       "   'statusesCount': 160,\n",
       "   'favouritesCount': 240,\n",
       "   'listedCount': 0,\n",
       "   'mediaCount': 102,\n",
       "   'location': '',\n",
       "   'protected': False,\n",
       "   'linkUrl': None,\n",
       "   'linkTcourl': None,\n",
       "   'profileImageUrl': 'https://pbs.twimg.com/profile_images/1364170636264804352/7xfhNn0S_normal.jpg',\n",
       "   'profileBannerUrl': 'https://pbs.twimg.com/profile_banners/1355092620662329349/1612611418',\n",
       "   'url': 'https://twitter.com/PrdeepNain'},\n",
       "  'outlinks': [],\n",
       "  'tcooutlinks': [],\n",
       "  'replyCount': 0,\n",
       "  'retweetCount': 0,\n",
       "  'likeCount': 0,\n",
       "  'quoteCount': 0,\n",
       "  'conversationId': 1364506237451313155,\n",
       "  'lang': 'en',\n",
       "  'source': '<a href=\"http://twitter.com/download/android\" rel=\"nofollow\">Twitter for Android</a>',\n",
       "  'sourceUrl': 'http://twitter.com/download/android',\n",
       "  'sourceLabel': 'Twitter for Android',\n",
       "  'media': [{'thumbnailUrl': 'https://pbs.twimg.com/ext_tw_video_thumb/1364506005531361280/pu/img/TlV5WZdUsaU2Qpmy.jpg',\n",
       "    'variants': [{'contentType': 'video/mp4',\n",
       "      'url': 'https://video.twimg.com/ext_tw_video/1364506005531361280/pu/vid/320x580/2EhqHfKscfd1GQnM.mp4?tag=10',\n",
       "      'bitrate': 632000},\n",
       "     {'contentType': 'application/x-mpegURL',\n",
       "      'url': 'https://video.twimg.com/ext_tw_video/1364506005531361280/pu/pl/xKomqeZ_R13sSAq0.m3u8?tag=10',\n",
       "      'bitrate': None}],\n",
       "    'duration': 139.934,\n",
       "    'type': 'video'}],\n",
       "  'retweetedTweet': None,\n",
       "  'quotedTweet': None,\n",
       "  'mentionedUsers': [{'username': 'Kisanektamorcha',\n",
       "    'displayname': 'Kisan Ekta Morcha',\n",
       "    'id': 1338536920066879488,\n",
       "    'description': None,\n",
       "    'rawDescription': None,\n",
       "    'descriptionUrls': None,\n",
       "    'verified': None,\n",
       "    'created': None,\n",
       "    'followersCount': None,\n",
       "    'friendsCount': None,\n",
       "    'statusesCount': None,\n",
       "    'favouritesCount': None,\n",
       "    'listedCount': None,\n",
       "    'mediaCount': None,\n",
       "    'location': None,\n",
       "    'protected': None,\n",
       "    'linkUrl': None,\n",
       "    'linkTcourl': None,\n",
       "    'profileImageUrl': None,\n",
       "    'profileBannerUrl': None,\n",
       "    'url': 'https://twitter.com/Kisanektamorcha'}]}]"
      ]
     },
     "execution_count": 10,
     "metadata": {},
     "output_type": "execute_result"
    }
   ],
   "source": [
    "with open(file_path) as json_file:\n",
    "    data = [json.loads(line) for line in json_file.readlines()]\n",
    "data[:2]"
   ]
  },
  {
   "cell_type": "code",
   "execution_count": 11,
   "metadata": {},
   "outputs": [],
   "source": [
    "cols = ['url', 'date', 'content', 'renderedContent', 'id', 'user', 'outlinks',\n",
    "       'tcooutlinks', 'replyCount', 'retweetCount', 'likeCount', 'quoteCount',\n",
    "       'conversationId', 'lang', 'source', 'sourceUrl', 'sourceLabel', 'media',\n",
    "       'retweetedTweet', 'quotedTweet', 'mentionedUsers']"
   ]
  },
  {
   "cell_type": "code",
   "execution_count": 16,
   "metadata": {},
   "outputs": [
    {
     "data": {
      "text/plain": [
       "{'url': 'https://twitter.com/ArjunSinghPanam/status/1364506249291784198',\n",
       " 'date': '2021-02-24T09:23:35+00:00',\n",
       " 'content': 'The world progresses while the Indian police and Govt are still trying to take India back to the horrific past through its tyranny. \\n\\n@narendramodi @DelhiPolice Shame on you. \\n\\n#ModiDontSellFarmers \\n#FarmersProtest \\n#FreeNodeepKaur https://t.co/es3kn0IQAF',\n",
       " 'renderedContent': 'The world progresses while the Indian police and Govt are still trying to take India back to the horrific past through its tyranny. \\n\\n@narendramodi @DelhiPolice Shame on you. \\n\\n#ModiDontSellFarmers \\n#FarmersProtest \\n#FreeNodeepKaur twitter.com/ravisinghka/st…',\n",
       " 'id': 1364506249291784198,\n",
       " 'user': {'username': 'ArjunSinghPanam',\n",
       "  'displayname': 'Arjun Singh Panam',\n",
       "  'id': 45091142,\n",
       "  'description': 'Global Citizen, Actor, Director: Sky is the roof above my head, the world is the road I travel, love is my food & mother earth is my bed. Roy in @CosmosMovie',\n",
       "  'rawDescription': 'Global Citizen, Actor, Director: Sky is the roof above my head, the world is the road I travel, love is my food & mother earth is my bed. Roy in @CosmosMovie',\n",
       "  'descriptionUrls': [],\n",
       "  'verified': False,\n",
       "  'created': '2009-06-06T07:50:57+00:00',\n",
       "  'followersCount': 603,\n",
       "  'friendsCount': 311,\n",
       "  'statusesCount': 17534,\n",
       "  'favouritesCount': 4269,\n",
       "  'listedCount': 23,\n",
       "  'mediaCount': 1211,\n",
       "  'location': '',\n",
       "  'protected': False,\n",
       "  'linkUrl': 'https://www.cosmosmovieofficial.com',\n",
       "  'linkTcourl': 'https://t.co/3uaoV3gCt3',\n",
       "  'profileImageUrl': 'https://pbs.twimg.com/profile_images/1215541746492461056/3De61YoQ_normal.jpg',\n",
       "  'profileBannerUrl': 'https://pbs.twimg.com/profile_banners/45091142/1612601766',\n",
       "  'url': 'https://twitter.com/ArjunSinghPanam'},\n",
       " 'outlinks': ['https://twitter.com/ravisinghka/status/1364150844757860352'],\n",
       " 'tcooutlinks': ['https://t.co/es3kn0IQAF'],\n",
       " 'replyCount': 0,\n",
       " 'retweetCount': 0,\n",
       " 'likeCount': 0,\n",
       " 'quoteCount': 0,\n",
       " 'conversationId': 1364506249291784198,\n",
       " 'lang': 'en',\n",
       " 'source': '<a href=\"http://twitter.com/download/iphone\" rel=\"nofollow\">Twitter for iPhone</a>',\n",
       " 'sourceUrl': 'http://twitter.com/download/iphone',\n",
       " 'sourceLabel': 'Twitter for iPhone',\n",
       " 'media': None,\n",
       " 'retweetedTweet': None,\n",
       " 'quotedTweet': {'url': 'https://twitter.com/RaviSinghKA/status/1364150844757860352',\n",
       "  'date': '2021-02-23T09:51:20+00:00',\n",
       "  'content': 'This is what the indian police are good at, beating &amp; raping women ! @police_haryana @DelhiPolice \\n\\nhttps://t.co/mj1qzF7nGh',\n",
       "  'renderedContent': 'This is what the indian police are good at, beating &amp; raping women ! @police_haryana @DelhiPolice \\n\\ngoogle.co.uk/amp/s/m.timeso…',\n",
       "  'id': 1364150844757860352,\n",
       "  'user': {'username': 'RaviSinghKA',\n",
       "   'displayname': 'ravinder singh',\n",
       "   'id': 2347762888,\n",
       "   'description': 'Founder/CEO of Khalsa Aid, Sikh,philanthropist, 20 Years of coordinating aid,humanitarian & passionate about human rights.All views my own:Inc working in Iraq',\n",
       "   'rawDescription': 'Founder/CEO of Khalsa Aid, Sikh,philanthropist, 20 Years of coordinating aid,humanitarian & passionate about human rights.All views my own:Inc working in Iraq',\n",
       "   'descriptionUrls': [],\n",
       "   'verified': False,\n",
       "   'created': '2014-02-16T23:38:54+00:00',\n",
       "   'followersCount': 227423,\n",
       "   'friendsCount': 4042,\n",
       "   'statusesCount': 38683,\n",
       "   'favouritesCount': 30134,\n",
       "   'listedCount': 212,\n",
       "   'mediaCount': 4944,\n",
       "   'location': 'Slough, England ',\n",
       "   'protected': False,\n",
       "   'linkUrl': 'http://www.khalsaaid.org',\n",
       "   'linkTcourl': 'https://t.co/cgdi8BLkK2',\n",
       "   'profileImageUrl': 'https://pbs.twimg.com/profile_images/686526444642643968/bnCPdE7N_normal.jpg',\n",
       "   'profileBannerUrl': 'https://pbs.twimg.com/profile_banners/2347762888/1591307489',\n",
       "   'url': 'https://twitter.com/RaviSinghKA'},\n",
       "  'outlinks': ['https://www.google.co.uk/amp/s/m.timesofindia.com/city/chandigarh/was-brutally-thrashed-in-thana-nodeep-kaur-tells-punjab-and-haryana-high-court/amp_articleshow/81164092.cms'],\n",
       "  'tcooutlinks': ['https://t.co/mj1qzF7nGh'],\n",
       "  'replyCount': 66,\n",
       "  'retweetCount': 744,\n",
       "  'likeCount': 1939,\n",
       "  'quoteCount': 59,\n",
       "  'conversationId': 1364150844757860352,\n",
       "  'lang': 'en',\n",
       "  'source': '<a href=\"http://twitter.com/download/iphone\" rel=\"nofollow\">Twitter for iPhone</a>',\n",
       "  'sourceUrl': 'http://twitter.com/download/iphone',\n",
       "  'sourceLabel': 'Twitter for iPhone',\n",
       "  'media': None,\n",
       "  'retweetedTweet': None,\n",
       "  'quotedTweet': None,\n",
       "  'mentionedUsers': [{'username': 'police_haryana',\n",
       "    'displayname': 'Haryana Police',\n",
       "    'id': 887564756629966848,\n",
       "    'description': None,\n",
       "    'rawDescription': None,\n",
       "    'descriptionUrls': None,\n",
       "    'verified': None,\n",
       "    'created': None,\n",
       "    'followersCount': None,\n",
       "    'friendsCount': None,\n",
       "    'statusesCount': None,\n",
       "    'favouritesCount': None,\n",
       "    'listedCount': None,\n",
       "    'mediaCount': None,\n",
       "    'location': None,\n",
       "    'protected': None,\n",
       "    'linkUrl': None,\n",
       "    'linkTcourl': None,\n",
       "    'profileImageUrl': None,\n",
       "    'profileBannerUrl': None,\n",
       "    'url': 'https://twitter.com/police_haryana'},\n",
       "   {'username': 'DelhiPolice',\n",
       "    'displayname': '#DilKiPolice Delhi Police',\n",
       "    'id': 1850705408,\n",
       "    'description': None,\n",
       "    'rawDescription': None,\n",
       "    'descriptionUrls': None,\n",
       "    'verified': None,\n",
       "    'created': None,\n",
       "    'followersCount': None,\n",
       "    'friendsCount': None,\n",
       "    'statusesCount': None,\n",
       "    'favouritesCount': None,\n",
       "    'listedCount': None,\n",
       "    'mediaCount': None,\n",
       "    'location': None,\n",
       "    'protected': None,\n",
       "    'linkUrl': None,\n",
       "    'linkTcourl': None,\n",
       "    'profileImageUrl': None,\n",
       "    'profileBannerUrl': None,\n",
       "    'url': 'https://twitter.com/DelhiPolice'}]},\n",
       " 'mentionedUsers': [{'username': 'narendramodi',\n",
       "   'displayname': 'Narendra Modi',\n",
       "   'id': 18839785,\n",
       "   'description': None,\n",
       "   'rawDescription': None,\n",
       "   'descriptionUrls': None,\n",
       "   'verified': None,\n",
       "   'created': None,\n",
       "   'followersCount': None,\n",
       "   'friendsCount': None,\n",
       "   'statusesCount': None,\n",
       "   'favouritesCount': None,\n",
       "   'listedCount': None,\n",
       "   'mediaCount': None,\n",
       "   'location': None,\n",
       "   'protected': None,\n",
       "   'linkUrl': None,\n",
       "   'linkTcourl': None,\n",
       "   'profileImageUrl': None,\n",
       "   'profileBannerUrl': None,\n",
       "   'url': 'https://twitter.com/narendramodi'},\n",
       "  {'username': 'DelhiPolice',\n",
       "   'displayname': '#DilKiPolice Delhi Police',\n",
       "   'id': 1850705408,\n",
       "   'description': None,\n",
       "   'rawDescription': None,\n",
       "   'descriptionUrls': None,\n",
       "   'verified': None,\n",
       "   'created': None,\n",
       "   'followersCount': None,\n",
       "   'friendsCount': None,\n",
       "   'statusesCount': None,\n",
       "   'favouritesCount': None,\n",
       "   'listedCount': None,\n",
       "   'mediaCount': None,\n",
       "   'location': None,\n",
       "   'protected': None,\n",
       "   'linkUrl': None,\n",
       "   'linkTcourl': None,\n",
       "   'profileImageUrl': None,\n",
       "   'profileBannerUrl': None,\n",
       "   'url': 'https://twitter.com/DelhiPolice'}]}"
      ]
     },
     "execution_count": 16,
     "metadata": {},
     "output_type": "execute_result"
    }
   ],
   "source": [
    "data[0]"
   ]
  },
  {
   "cell_type": "code",
   "execution_count": 12,
   "metadata": {},
   "outputs": [
    {
     "data": {
      "text/html": [
       "<div><style>\n",
       ".dataframe > thead > tr,\n",
       ".dataframe > tbody > tr {\n",
       "  text-align: right;\n",
       "  white-space: pre-wrap;\n",
       "}\n",
       "</style>\n",
       "<small>shape: (117_407, 21)</small><table border=\"1\" class=\"dataframe\"><thead><tr><th>url</th><th>date</th><th>content</th><th>renderedContent</th><th>id</th><th>user</th><th>outlinks</th><th>tcooutlinks</th><th>replyCount</th><th>retweetCount</th><th>likeCount</th><th>quoteCount</th><th>conversationId</th><th>lang</th><th>source</th><th>sourceUrl</th><th>sourceLabel</th><th>media</th><th>retweetedTweet</th><th>quotedTweet</th><th>mentionedUsers</th></tr><tr><td>str</td><td>str</td><td>str</td><td>str</td><td>i64</td><td>struct[21]</td><td>list[str]</td><td>list[str]</td><td>i64</td><td>i64</td><td>i64</td><td>i64</td><td>i64</td><td>str</td><td>str</td><td>str</td><td>str</td><td>list[struct[6]]</td><td>null</td><td>struct[21]</td><td>list[struct[21]]</td></tr></thead><tbody><tr><td>&quot;https://twitter.com/ArjunSingh…</td><td>&quot;2021-02-24T09:23:35+00:00&quot;</td><td>&quot;The world progresses while the…</td><td>&quot;The world progresses while the…</td><td>1364506249291784198</td><td>{&quot;ArjunSinghPanam&quot;,&quot;Arjun Singh Panam&quot;,45091142,&quot;Global Citizen, Actor, Director: Sky is the roof above my head, the world is the road I travel, love is my food &amp; mother earth is my bed. Roy in @CosmosMovie&quot;,&quot;Global Citizen, Actor, Director: Sky is the roof above my head, the world is the road I travel, love is my food &amp; mother earth is my bed. Roy in @CosmosMovie&quot;,[],false,&quot;2009-06-06T07:50:57+00:00&quot;,603,311,17534,4269,23,1211,&quot;&quot;,false,&quot;https://www.cosmosmovieofficial.com&quot;,&quot;https://t.co/3uaoV3gCt3&quot;,&quot;https://pbs.twimg.com/profile_images/1215541746492461056/3De61YoQ_normal.jpg&quot;,&quot;https://pbs.twimg.com/profile_banners/45091142/1612601766&quot;,&quot;https://twitter.com/ArjunSinghPanam&quot;}</td><td>[&quot;https://twitter.com/ravisinghka/status/1364150844757860352&quot;]</td><td>[&quot;https://t.co/es3kn0IQAF&quot;]</td><td>0</td><td>0</td><td>0</td><td>0</td><td>1364506249291784198</td><td>&quot;en&quot;</td><td>&quot;&lt;a href=&quot;http://twitter.com/do…</td><td>&quot;http://twitter.com/download/ip…</td><td>&quot;Twitter for iPhone&quot;</td><td>null</td><td>null</td><td>{&quot;https://twitter.com/RaviSinghKA/status/1364150844757860352&quot;,&quot;2021-02-23T09:51:20+00:00&quot;,&quot;This is what the indian police are good at, beating &amp;amp; raping women ! @police_haryana @DelhiPolice \n",
       "\n",
       "https://t.co/mj1qzF7nGh&quot;,&quot;This is what the indian police are good at, beating &amp;amp; raping women ! @police_haryana @DelhiPolice \n",
       "\n",
       "google.co.uk/amp/s/m.timeso…&quot;,1364150844757860352,{&quot;RaviSinghKA&quot;,&quot;ravinder singh&quot;,2347762888,&quot;Founder/CEO of Khalsa Aid, Sikh,philanthropist, 20 Years of coordinating aid,humanitarian &amp; passionate about human rights.All views my own:Inc working in Iraq&quot;,&quot;Founder/CEO of Khalsa Aid, Sikh,philanthropist, 20 Years of coordinating aid,humanitarian &amp; passionate about human rights.All views my own:Inc working in Iraq&quot;,[],false,&quot;2014-02-16T23:38:54+00:00&quot;,227423,4042,38683,30134,212,4944,&quot;Slough, England &quot;,false,&quot;http://www.khalsaaid.org&quot;,&quot;https://t.co/cgdi8BLkK2&quot;,&quot;https://pbs.twimg.com/profile_images/686526444642643968/bnCPdE7N_normal.jpg&quot;,&quot;https://pbs.twimg.com/profile_banners/2347762888/1591307489&quot;,&quot;https://twitter.com/RaviSinghKA&quot;},[&quot;https://www.google.co.uk/amp/s/m.timesofindia.com/city/chandigarh/was-brutally-thrashed-in-thana-nodeep-kaur-tells-punjab-and-haryana-high-court/amp_articleshow/81164092.cms&quot;],[&quot;https://t.co/mj1qzF7nGh&quot;],66,744,1939,59,1364150844757860352,&quot;en&quot;,&quot;&lt;a href=&quot;http://twitter.com/download/iphone&quot; rel=&quot;nofollow&quot;&gt;Twitter for iPhone&lt;/a&gt;&quot;,&quot;http://twitter.com/download/iphone&quot;,&quot;Twitter for iPhone&quot;,null,null,null,[{&quot;police_haryana&quot;,&quot;Haryana Police&quot;,887564756629966848,null,null,null,null,null,null,null,null,null,null,null,null,null,null,null,null,null,&quot;https://twitter.com/police_haryana&quot;}, {&quot;DelhiPolice&quot;,&quot;#DilKiPolice Delhi Police&quot;,1850705408,null,null,null,null,null,null,null,null,null,null,null,null,null,null,null,null,null,&quot;https://twitter.com/DelhiPolice&quot;}]}</td><td>[{&quot;narendramodi&quot;,&quot;Narendra Modi&quot;,18839785,null,null,null,null,null,null,null,null,null,null,null,null,null,null,null,null,null,&quot;https://twitter.com/narendramodi&quot;}, {&quot;DelhiPolice&quot;,&quot;#DilKiPolice Delhi Police&quot;,1850705408,null,null,null,null,null,null,null,null,null,null,null,null,null,null,null,null,null,&quot;https://twitter.com/DelhiPolice&quot;}]</td></tr><tr><td>&quot;https://twitter.com/PrdeepNain…</td><td>&quot;2021-02-24T09:23:32+00:00&quot;</td><td>&quot;#FarmersProtest \n",
       "#ModiIgnoring…</td><td>&quot;#FarmersProtest \n",
       "#ModiIgnoring…</td><td>1364506237451313155</td><td>{&quot;PrdeepNain&quot;,&quot;Pradeep Nain&quot;,1355092620662329349,&quot;Live in the sunshine where you belong&quot;,&quot;Live in the sunshine where you belong&quot;,[],false,&quot;2021-01-29T09:58:06+00:00&quot;,14,134,160,240,0,102,&quot;&quot;,false,null,null,&quot;https://pbs.twimg.com/profile_images/1364170636264804352/7xfhNn0S_normal.jpg&quot;,&quot;https://pbs.twimg.com/profile_banners/1355092620662329349/1612611418&quot;,&quot;https://twitter.com/PrdeepNain&quot;}</td><td>[]</td><td>[]</td><td>0</td><td>0</td><td>0</td><td>0</td><td>1364506237451313155</td><td>&quot;en&quot;</td><td>&quot;&lt;a href=&quot;http://twitter.com/do…</td><td>&quot;http://twitter.com/download/an…</td><td>&quot;Twitter for Android&quot;</td><td>[{&quot;https://pbs.twimg.com/ext_tw_video_thumb/1364506005531361280/pu/img/TlV5WZdUsaU2Qpmy.jpg&quot;,[{&quot;video/mp4&quot;,&quot;https://video.twimg.com/ext_tw_video/1364506005531361280/pu/vid/320x580/2EhqHfKscfd1GQnM.mp4?tag=10&quot;,632000}, {&quot;application/x-mpegURL&quot;,&quot;https://video.twimg.com/ext_tw_video/1364506005531361280/pu/pl/xKomqeZ_R13sSAq0.m3u8?tag=10&quot;,null}],139.934,&quot;video&quot;,null,null}]</td><td>null</td><td>null</td><td>[{&quot;Kisanektamorcha&quot;,&quot;Kisan Ekta Morcha&quot;,1338536920066879488,null,null,null,null,null,null,null,null,null,null,null,null,null,null,null,null,null,&quot;https://twitter.com/Kisanektamorcha&quot;}]</td></tr><tr><td>&quot;https://twitter.com/parmarmani…</td><td>&quot;2021-02-24T09:23:22+00:00&quot;</td><td>&quot;ਪੈਟਰੋਲ ਦੀਆਂ ਕੀਮਤਾਂ ਨੂੰ ਮੱਦੇਨਜ਼…</td><td>&quot;ਪੈਟਰੋਲ ਦੀਆਂ ਕੀਮਤਾਂ ਨੂੰ ਮੱਦੇਨਜ਼…</td><td>1364506195453767680</td><td>{&quot;parmarmaninder&quot;,&quot;maninder singh&quot;,476006247,&quot;।।ਨਾਨਕ ਨਾਮ ਚੜ੍ਹਦੀ ਕਲਾ ਤੇਰੈ ਭਾਣੈ ਸਰਬੱਤ ਦਾ ਭਲਾ।।&quot;,&quot;।।ਨਾਨਕ ਨਾਮ ਚੜ੍ਹਦੀ ਕਲਾ ਤੇਰੈ ਭਾਣੈ ਸਰਬੱਤ ਦਾ ਭਲਾ।।&quot;,[],false,&quot;2012-01-27T17:30:27+00:00&quot;,72,151,2285,846,0,265,&quot;&quot;,false,null,null,&quot;https://pbs.twimg.com/profile_images/1332977102749052932/tH_XUbMg_normal.jpg&quot;,&quot;https://pbs.twimg.com/profile_banners/476006247/1613580104&quot;,&quot;https://twitter.com/parmarmaninder&quot;}</td><td>[]</td><td>[]</td><td>0</td><td>0</td><td>0</td><td>0</td><td>1364506195453767680</td><td>&quot;pa&quot;</td><td>&quot;&lt;a href=&quot;http://twitter.com/do…</td><td>&quot;http://twitter.com/download/an…</td><td>&quot;Twitter for Android&quot;</td><td>null</td><td>null</td><td>null</td><td>null</td></tr><tr><td>&quot;https://twitter.com/anmoldhali…</td><td>&quot;2021-02-24T09:23:16+00:00&quot;</td><td>&quot;@ReallySwara @rohini_sgh watch…</td><td>&quot;@ReallySwara @rohini_sgh watch…</td><td>1364506167226032128</td><td>{&quot;anmoldhaliwal&quot;,&quot;Anmol&quot;,137908912,&quot;coming soon&quot;,&quot;coming soon&quot;,[],false,&quot;2010-04-28T03:12:18+00:00&quot;,51,27,228,77,0,12,&quot;Brampton, On&quot;,false,null,null,&quot;https://pbs.twimg.com/profile_images/1564975143/DSCN0990_-_Copy_-_Copy_normal.JPG&quot;,null,&quot;https://twitter.com/anmoldhaliwal&quot;}</td><td>[&quot;https://youtu.be/-bUKumwq-J8&quot;]</td><td>[&quot;https://t.co/wBPNdJdB0n&quot;]</td><td>0</td><td>0</td><td>0</td><td>0</td><td>1364350947099484160</td><td>&quot;en&quot;</td><td>&quot;&lt;a href=&quot;https://mobile.twitte…</td><td>&quot;https://mobile.twitter.com&quot;</td><td>&quot;Twitter Web App&quot;</td><td>[{&quot;https://pbs.twimg.com/ext_tw_video_thumb/1364506093972566023/pu/img/wDpadWHLRoeCv_F7.jpg&quot;,[{&quot;video/mp4&quot;,&quot;https://video.twimg.com/ext_tw_video/1364506093972566023/pu/vid/320x566/vmTZxIj53Ak47VJG.mp4?tag=10&quot;,632000}, {&quot;video/mp4&quot;,&quot;https://video.twimg.com/ext_tw_video/1364506093972566023/pu/vid/406x720/mCrsdejs_QB5C76h.mp4?tag=10&quot;,832000}, {&quot;application/x-mpegURL&quot;,&quot;https://video.twimg.com/ext_tw_video/1364506093972566023/pu/pl/5oFp-iiNuCkC17ce.m3u8?tag=10&quot;,null}],46.375,&quot;video&quot;,null,null}]</td><td>null</td><td>null</td><td>[{&quot;ReallySwara&quot;,&quot;Swara Bhasker&quot;,1546101560,null,null,null,null,null,null,null,null,null,null,null,null,null,null,null,null,null,&quot;https://twitter.com/ReallySwara&quot;}, {&quot;rohini_sgh&quot;,&quot;Rohini Singh&quot;,267861878,null,null,null,null,null,null,null,null,null,null,null,null,null,null,null,null,null,&quot;https://twitter.com/rohini_sgh&quot;}]</td></tr><tr><td>&quot;https://twitter.com/KotiaPreet…</td><td>&quot;2021-02-24T09:23:10+00:00&quot;</td><td>&quot;#KisanEktaMorcha #FarmersProte…</td><td>&quot;#KisanEktaMorcha #FarmersProte…</td><td>1364506144002088963</td><td>{&quot;KotiaPreet&quot;,&quot;Preet Kotia&quot;,1358786390696206337,&quot;&quot;,&quot;&quot;,[],false,&quot;2021-02-08T14:35:10+00:00&quot;,5,23,9,22,0,6,&quot;&quot;,false,null,null,&quot;https://pbs.twimg.com/profile_images/1358786653943263232/CssWTw1B_normal.jpg&quot;,&quot;https://pbs.twimg.com/profile_banners/1358786390696206337/1614008177&quot;,&quot;https://twitter.com/KotiaPreet&quot;}</td><td>[]</td><td>[]</td><td>0</td><td>0</td><td>0</td><td>0</td><td>1364506144002088963</td><td>&quot;und&quot;</td><td>&quot;&lt;a href=&quot;http://twitter.com/do…</td><td>&quot;http://twitter.com/download/ip…</td><td>&quot;Twitter for iPhone&quot;</td><td>[{null,null,null,&quot;photo&quot;,&quot;https://pbs.twimg.com/media/Eu-zGYfVgAQ3s5_?format=jpg&amp;name=small&quot;,&quot;https://pbs.twimg.com/media/Eu-zGYfVgAQ3s5_?format=jpg&amp;name=large&quot;}]</td><td>null</td><td>null</td><td>null</td></tr><tr><td>&hellip;</td><td>&hellip;</td><td>&hellip;</td><td>&hellip;</td><td>&hellip;</td><td>&hellip;</td><td>&hellip;</td><td>&hellip;</td><td>&hellip;</td><td>&hellip;</td><td>&hellip;</td><td>&hellip;</td><td>&hellip;</td><td>&hellip;</td><td>&hellip;</td><td>&hellip;</td><td>&hellip;</td><td>&hellip;</td><td>&hellip;</td><td>&hellip;</td><td>&hellip;</td></tr><tr><td>&quot;https://twitter.com/rickyricks…</td><td>&quot;2021-02-12T01:37:02+00:00&quot;</td><td>&quot;#FarmersProtest #KisanAndolan …</td><td>&quot;#FarmersProtest #KisanAndolan …</td><td>1360040182771163138</td><td>{&quot;rickyrickstir&quot;,&quot;Rickie Ghuman&quot;,903146828,&quot;&quot;,&quot;&quot;,[],false,&quot;2012-10-25T03:42:52+00:00&quot;,29,253,135,110,0,6,&quot;Canada&quot;,false,null,null,&quot;https://pbs.twimg.com/profile_images/1357176159369240579/kLt60npF_normal.jpg&quot;,&quot;https://pbs.twimg.com/profile_banners/903146828/1612410987&quot;,&quot;https://twitter.com/rickyrickstir&quot;}</td><td>[]</td><td>[]</td><td>0</td><td>0</td><td>0</td><td>0</td><td>1360040182771163138</td><td>&quot;und&quot;</td><td>&quot;&lt;a href=&quot;http://twitter.com/do…</td><td>&quot;http://twitter.com/download/ip…</td><td>&quot;Twitter for iPhone&quot;</td><td>null</td><td>null</td><td>null</td><td>null</td></tr><tr><td>&quot;https://twitter.com/PunjabTak/…</td><td>&quot;2021-02-12T01:36:53+00:00&quot;</td><td>&quot;PM मोदी की अपील के बीच संयुक्त…</td><td>&quot;PM मोदी की अपील के बीच संयुक्त…</td><td>1360040146402373637</td><td>{&quot;PunjabTak&quot;,&quot;Punjab Tak&quot;,1004319254919823360,&quot;&quot;,&quot;&quot;,[],false,&quot;2018-06-06T11:09:04+00:00&quot;,354,333,10881,16,0,10737,&quot;&quot;,false,null,null,&quot;https://pbs.twimg.com/profile_images/1009327807829364737/igmVo94Z_normal.jpg&quot;,&quot;https://pbs.twimg.com/profile_banners/1004319254919823360/1611820120&quot;,&quot;https://twitter.com/PunjabTak&quot;}</td><td>[&quot;https://youtu.be/aG3qHGwoYag&quot;]</td><td>[&quot;https://t.co/AzZNOGI8BX&quot;]</td><td>0</td><td>0</td><td>0</td><td>0</td><td>1360040146402373637</td><td>&quot;hi&quot;</td><td>&quot;&lt;a href=&quot;https://mobile.twitte…</td><td>&quot;https://mobile.twitter.com&quot;</td><td>&quot;Twitter Web App&quot;</td><td>[{null,null,null,&quot;photo&quot;,&quot;https://pbs.twimg.com/media/Et_VTARUUAAnALs?format=jpg&amp;name=small&quot;,&quot;https://pbs.twimg.com/media/Et_VTARUUAAnALs?format=jpg&amp;name=large&quot;}]</td><td>null</td><td>null</td><td>null</td></tr><tr><td>&quot;https://twitter.com/ish_kayy/s…</td><td>&quot;2021-02-12T01:36:50+00:00&quot;</td><td>&quot;United we stand.\n",
       "Divided we fa…</td><td>&quot;United we stand.\n",
       "Divided we fa…</td><td>1360040134230556678</td><td>{&quot;ish_kayy&quot;,&quot;ishy&quot;,622149895,&quot;Authenticity is key🗝️&quot;,&quot;Authenticity is key🗝️&quot;,[],false,&quot;2012-06-29T18:51:56+00:00&quot;,137,524,2116,4476,1,52,&quot;Ontario, CA&quot;,false,null,null,&quot;https://pbs.twimg.com/profile_images/1358264662744309760/HEbfS1X6_normal.jpg&quot;,&quot;https://pbs.twimg.com/profile_banners/622149895/1557718576&quot;,&quot;https://twitter.com/ish_kayy&quot;}</td><td>[]</td><td>[]</td><td>0</td><td>65</td><td>39</td><td>6</td><td>1360040134230556678</td><td>&quot;en&quot;</td><td>&quot;&lt;a href=&quot;https://mobile.twitte…</td><td>&quot;https://mobile.twitter.com&quot;</td><td>&quot;Twitter Web App&quot;</td><td>[{null,null,null,&quot;photo&quot;,&quot;https://pbs.twimg.com/media/Et_UyAdWgAUmlZo?format=jpg&amp;name=small&quot;,&quot;https://pbs.twimg.com/media/Et_UyAdWgAUmlZo?format=jpg&amp;name=large&quot;}]</td><td>null</td><td>null</td><td>null</td></tr><tr><td>&quot;https://twitter.com/TV9Bharatv…</td><td>&quot;2021-02-12T01:36:49+00:00&quot;</td><td>&quot;सिंघु बॉर्डर पर लंबी लड़ाई की …</td><td>&quot;सिंघु बॉर्डर पर लंबी लड़ाई की …</td><td>1360040127679000577</td><td>{&quot;TV9Bharatvarsh&quot;,&quot;TV9 Bharatvarsh&quot;,1039759933728645120,&quot;Official handle of National Hindi News Channel TV9 भारतवर्ष.\n",
       "टेलीग्राम पर जुड़ें हमारे साथ,पाएं सबसे तेज न्यूज़ अपडेट  t.me/tv9bharatvarsh…&quot;,&quot;Official handle of National Hindi News Channel TV9 भारतवर्ष.\n",
       "टेलीग्राम पर जुड़ें हमारे साथ,पाएं सबसे तेज न्यूज़ अपडेट  https://t.co/Fflsj23max&quot;,[{&quot;t.me/tv9bharatvarsh…&quot;,&quot;http://t.me/tv9bharatvarsh_bot&quot;,&quot;https://t.co/Fflsj23max&quot;,[117, 140]}],false,&quot;2018-09-12T06:17:40+00:00&quot;,130257,16,121316,5,132,34638,&quot;Noida, India&quot;,false,&quot;https://www.tv9hindi.com&quot;,&quot;https://t.co/y2Hb9F9pqi&quot;,&quot;https://pbs.twimg.com/profile_images/1239416273743699968/OTHxWPty_normal.jpg&quot;,&quot;https://pbs.twimg.com/profile_banners/1039759933728645120/1612246010&quot;,&quot;https://twitter.com/TV9Bharatvarsh&quot;}</td><td>[&quot;https://www.tv9hindi.com/india/farmers-protest-new-three-agricultural-laws-long-battle-singhu-border-536821.html&quot;]</td><td>[&quot;https://t.co/bkjh7WXc0w&quot;]</td><td>0</td><td>1</td><td>15</td><td>1</td><td>1360040127679000577</td><td>&quot;hi&quot;</td><td>&quot;&lt;a href=&quot;https://mobile.twitte…</td><td>&quot;https://mobile.twitter.com&quot;</td><td>&quot;Twitter Web App&quot;</td><td>null</td><td>null</td><td>null</td><td>null</td></tr><tr><td>&quot;https://twitter.com/SikhVibes/…</td><td>&quot;2021-02-12T01:36:49+00:00&quot;</td><td>&quot;@Kisanektamorcha We are with y…</td><td>&quot;@Kisanektamorcha We are with y…</td><td>1360040127146430470</td><td>{&quot;SikhVibes&quot;,&quot;SikhVibes&quot;,1568618503,&quot;SikhVibes.com is a premium Sikh Multimedia website with thousands of rare Audio Recordings, Videos and Katha from all over the world!&quot;,&quot;https://t.co/YWcGuzCBWn is a premium Sikh Multimedia website with thousands of rare Audio Recordings, Videos and Katha from all over the world!&quot;,[{&quot;SikhVibes.com&quot;,&quot;http://SikhVibes.com&quot;,&quot;https://t.co/YWcGuzCBWn&quot;,[0, 23]}],false,&quot;2013-07-04T16:50:42+00:00&quot;,853,390,1090,764,2,442,&quot;Toronto, Canada&quot;,false,&quot;https://linktr.ee/SikhVibes&quot;,&quot;https://t.co/3Vm6WLfyYP&quot;,&quot;https://pbs.twimg.com/profile_images/1311151305008787456/-JHIizir_normal.jpg&quot;,&quot;https://pbs.twimg.com/profile_banners/1568618503/1612464423&quot;,&quot;https://twitter.com/SikhVibes&quot;}</td><td>[]</td><td>[]</td><td>2</td><td>19</td><td>23</td><td>2</td><td>1360038291471388672</td><td>&quot;en&quot;</td><td>&quot;&lt;a href=&quot;http://twitter.com/do…</td><td>&quot;http://twitter.com/download/ip…</td><td>&quot;Twitter for iPhone&quot;</td><td>null</td><td>null</td><td>null</td><td>[{&quot;Kisanektamorcha&quot;,&quot;Kisan Ekta Morcha&quot;,1338536920066879488,null,null,null,null,null,null,null,null,null,null,null,null,null,null,null,null,null,&quot;https://twitter.com/Kisanektamorcha&quot;}]</td></tr></tbody></table></div>"
      ],
      "text/plain": [
       "shape: (117_407, 21)\n",
       "┌───────────┬───────────┬───────────┬───────────┬───┬───────────┬───────────┬───────────┬──────────┐\n",
       "│ url       ┆ date      ┆ content   ┆ renderedC ┆ … ┆ media     ┆ retweeted ┆ quotedTwe ┆ mentione │\n",
       "│ ---       ┆ ---       ┆ ---       ┆ ontent    ┆   ┆ ---       ┆ Tweet     ┆ et        ┆ dUsers   │\n",
       "│ str       ┆ str       ┆ str       ┆ ---       ┆   ┆ list[stru ┆ ---       ┆ ---       ┆ ---      │\n",
       "│           ┆           ┆           ┆ str       ┆   ┆ ct[6]]    ┆ null      ┆ struct[21 ┆ list[str │\n",
       "│           ┆           ┆           ┆           ┆   ┆           ┆           ┆ ]         ┆ uct[21]] │\n",
       "╞═══════════╪═══════════╪═══════════╪═══════════╪═══╪═══════════╪═══════════╪═══════════╪══════════╡\n",
       "│ https://t ┆ 2021-02-2 ┆ The world ┆ The world ┆ … ┆ null      ┆ null      ┆ {\"https:/ ┆ [{\"naren │\n",
       "│ witter.co ┆ 4T09:23:3 ┆ progresse ┆ progresse ┆   ┆           ┆           ┆ /twitter. ┆ dramodi\" │\n",
       "│ m/ArjunSi ┆ 5+00:00   ┆ s while   ┆ s while   ┆   ┆           ┆           ┆ com/RaviS ┆ ,\"Narend │\n",
       "│ ngh…      ┆           ┆ the…      ┆ the…      ┆   ┆           ┆           ┆ ing…      ┆ ra Mod…  │\n",
       "│ https://t ┆ 2021-02-2 ┆ #FarmersP ┆ #FarmersP ┆ … ┆ [{\"https: ┆ null      ┆ null      ┆ [{\"Kisan │\n",
       "│ witter.co ┆ 4T09:23:3 ┆ rotest    ┆ rotest    ┆   ┆ //pbs.twi ┆           ┆           ┆ ektamorc │\n",
       "│ m/PrdeepN ┆ 2+00:00   ┆ #ModiIgno ┆ #ModiIgno ┆   ┆ mg.com/ex ┆           ┆           ┆ ha\",\"Kis │\n",
       "│ ain…      ┆           ┆ ring…     ┆ ring…     ┆   ┆ t_t…      ┆           ┆           ┆ an Ekt…  │\n",
       "│ https://t ┆ 2021-02-2 ┆ ਪੈਟਰੋਲ ਦੀਆਂ  ┆ ਪੈਟਰੋਲ ਦੀਆਂ  ┆ … ┆ null      ┆ null      ┆ null      ┆ null     │\n",
       "│ witter.co ┆ 4T09:23:2 ┆ ਕੀਮਤਾਂ ਨੂੰ   ┆ ਕੀਮਤਾਂ ਨੂੰ   ┆   ┆           ┆           ┆           ┆          │\n",
       "│ m/parmarm ┆ 2+00:00   ┆ ਮੱਦੇਨਜ਼…     ┆ ਮੱਦੇਨਜ਼…     ┆   ┆           ┆           ┆           ┆          │\n",
       "│ ani…      ┆           ┆           ┆           ┆   ┆           ┆           ┆           ┆          │\n",
       "│ https://t ┆ 2021-02-2 ┆ @ReallySw ┆ @ReallySw ┆ … ┆ [{\"https: ┆ null      ┆ null      ┆ [{\"Reall │\n",
       "│ witter.co ┆ 4T09:23:1 ┆ ara @rohi ┆ ara @rohi ┆   ┆ //pbs.twi ┆           ┆           ┆ ySwara\", │\n",
       "│ m/anmoldh ┆ 6+00:00   ┆ ni_sgh    ┆ ni_sgh    ┆   ┆ mg.com/ex ┆           ┆           ┆ \"Swara   │\n",
       "│ ali…      ┆           ┆ watch…    ┆ watch…    ┆   ┆ t_t…      ┆           ┆           ┆ Bhasker… │\n",
       "│ https://t ┆ 2021-02-2 ┆ #KisanEkt ┆ #KisanEkt ┆ … ┆ [{null,nu ┆ null      ┆ null      ┆ null     │\n",
       "│ witter.co ┆ 4T09:23:1 ┆ aMorcha   ┆ aMorcha   ┆   ┆ ll,null,\" ┆           ┆           ┆          │\n",
       "│ m/KotiaPr ┆ 0+00:00   ┆ #FarmersP ┆ #FarmersP ┆   ┆ photo\",\"h ┆           ┆           ┆          │\n",
       "│ eet…      ┆           ┆ rote…     ┆ rote…     ┆   ┆ ttp…      ┆           ┆           ┆          │\n",
       "│ …         ┆ …         ┆ …         ┆ …         ┆ … ┆ …         ┆ …         ┆ …         ┆ …        │\n",
       "│ https://t ┆ 2021-02-1 ┆ #FarmersP ┆ #FarmersP ┆ … ┆ null      ┆ null      ┆ null      ┆ null     │\n",
       "│ witter.co ┆ 2T01:37:0 ┆ rotest    ┆ rotest    ┆   ┆           ┆           ┆           ┆          │\n",
       "│ m/rickyri ┆ 2+00:00   ┆ #KisanAnd ┆ #KisanAnd ┆   ┆           ┆           ┆           ┆          │\n",
       "│ cks…      ┆           ┆ olan …    ┆ olan …    ┆   ┆           ┆           ┆           ┆          │\n",
       "│ https://t ┆ 2021-02-1 ┆ PM मोदी   ┆ PM मोदी   ┆ … ┆ [{null,nu ┆ null      ┆ null      ┆ null     │\n",
       "│ witter.co ┆ 2T01:36:5 ┆ की अपील के ┆ की अपील के ┆   ┆ ll,null,\" ┆           ┆           ┆          │\n",
       "│ m/PunjabT ┆ 3+00:00   ┆ बीच संयुक्त… ┆ बीच संयुक्त… ┆   ┆ photo\",\"h ┆           ┆           ┆          │\n",
       "│ ak/…      ┆           ┆           ┆           ┆   ┆ ttp…      ┆           ┆           ┆          │\n",
       "│ https://t ┆ 2021-02-1 ┆ United we ┆ United we ┆ … ┆ [{null,nu ┆ null      ┆ null      ┆ null     │\n",
       "│ witter.co ┆ 2T01:36:5 ┆ stand.    ┆ stand.    ┆   ┆ ll,null,\" ┆           ┆           ┆          │\n",
       "│ m/ish_kay ┆ 0+00:00   ┆ Divided   ┆ Divided   ┆   ┆ photo\",\"h ┆           ┆           ┆          │\n",
       "│ y/s…      ┆           ┆ we fa…    ┆ we fa…    ┆   ┆ ttp…      ┆           ┆           ┆          │\n",
       "│ https://t ┆ 2021-02-1 ┆ सिंघु बॉर्डर ┆ सिंघु बॉर्डर ┆ … ┆ null      ┆ null      ┆ null      ┆ null     │\n",
       "│ witter.co ┆ 2T01:36:4 ┆ पर लंबी    ┆ पर लंबी    ┆   ┆           ┆           ┆           ┆          │\n",
       "│ m/TV9Bhar ┆ 9+00:00   ┆ लड़ाई की … ┆ लड़ाई की … ┆   ┆           ┆           ┆           ┆          │\n",
       "│ atv…      ┆           ┆           ┆           ┆   ┆           ┆           ┆           ┆          │\n",
       "│ https://t ┆ 2021-02-1 ┆ @Kisanekt ┆ @Kisanekt ┆ … ┆ null      ┆ null      ┆ null      ┆ [{\"Kisan │\n",
       "│ witter.co ┆ 2T01:36:4 ┆ amorcha   ┆ amorcha   ┆   ┆           ┆           ┆           ┆ ektamorc │\n",
       "│ m/SikhVib ┆ 9+00:00   ┆ We are    ┆ We are    ┆   ┆           ┆           ┆           ┆ ha\",\"Kis │\n",
       "│ es/…      ┆           ┆ with y…   ┆ with y…   ┆   ┆           ┆           ┆           ┆ an Ekt…  │\n",
       "└───────────┴───────────┴───────────┴───────────┴───┴───────────┴───────────┴───────────┴──────────┘"
      ]
     },
     "execution_count": 12,
     "metadata": {},
     "output_type": "execute_result"
    }
   ],
   "source": [
    "pl_json_data = pl.DataFrame(data)\n",
    "pl_json_data"
   ]
  },
  {
   "cell_type": "markdown",
   "metadata": {},
   "source": [
    "Sin embargo esto demora más de 1 minuto."
   ]
  },
  {
   "cell_type": "markdown",
   "metadata": {},
   "source": [
    "Se intentará leer cada linea y pasarla altiro a dataframes de Polars."
   ]
  },
  {
   "cell_type": "code",
   "execution_count": 13,
   "metadata": {},
   "outputs": [
    {
     "ename": "ShapeError",
     "evalue": "could not create a new DataFrame: series 2 has length 2 while series \"user\" has length 0",
     "output_type": "error",
     "traceback": [
      "\u001b[1;31m---------------------------------------------------------------------------\u001b[0m",
      "\u001b[1;31mShapeError\u001b[0m                                Traceback (most recent call last)",
      "Input \u001b[1;32mIn [13]\u001b[0m, in \u001b[0;36m<cell line: 1>\u001b[1;34m()\u001b[0m\n\u001b[0;32m      1\u001b[0m \u001b[38;5;28;01mwith\u001b[39;00m \u001b[38;5;28mopen\u001b[39m(file_path) \u001b[38;5;28;01mas\u001b[39;00m json_file:\n\u001b[1;32m----> 2\u001b[0m     pl_data \u001b[38;5;241m=\u001b[39m [pl\u001b[38;5;241m.\u001b[39mDataFrame(json\u001b[38;5;241m.\u001b[39mloads(line), schema\u001b[38;5;241m=\u001b[39mcols) \u001b[38;5;28;01mfor\u001b[39;00m line \u001b[38;5;129;01min\u001b[39;00m json_file\u001b[38;5;241m.\u001b[39mreadlines()]\n\u001b[0;32m      4\u001b[0m pl_tweets \u001b[38;5;241m=\u001b[39m pl\u001b[38;5;241m.\u001b[39mDataFrame(pl\u001b[38;5;241m.\u001b[39mconcat(pl_data))\n\u001b[0;32m      5\u001b[0m pl_tweets\n",
      "Input \u001b[1;32mIn [13]\u001b[0m, in \u001b[0;36m<listcomp>\u001b[1;34m(.0)\u001b[0m\n\u001b[0;32m      1\u001b[0m \u001b[38;5;28;01mwith\u001b[39;00m \u001b[38;5;28mopen\u001b[39m(file_path) \u001b[38;5;28;01mas\u001b[39;00m json_file:\n\u001b[1;32m----> 2\u001b[0m     pl_data \u001b[38;5;241m=\u001b[39m [\u001b[43mpl\u001b[49m\u001b[38;5;241;43m.\u001b[39;49m\u001b[43mDataFrame\u001b[49m\u001b[43m(\u001b[49m\u001b[43mjson\u001b[49m\u001b[38;5;241;43m.\u001b[39;49m\u001b[43mloads\u001b[49m\u001b[43m(\u001b[49m\u001b[43mline\u001b[49m\u001b[43m)\u001b[49m\u001b[43m,\u001b[49m\u001b[43m \u001b[49m\u001b[43mschema\u001b[49m\u001b[38;5;241;43m=\u001b[39;49m\u001b[43mcols\u001b[49m\u001b[43m)\u001b[49m \u001b[38;5;28;01mfor\u001b[39;00m line \u001b[38;5;129;01min\u001b[39;00m json_file\u001b[38;5;241m.\u001b[39mreadlines()]\n\u001b[0;32m      4\u001b[0m pl_tweets \u001b[38;5;241m=\u001b[39m pl\u001b[38;5;241m.\u001b[39mDataFrame(pl\u001b[38;5;241m.\u001b[39mconcat(pl_data))\n\u001b[0;32m      5\u001b[0m pl_tweets\n",
      "File \u001b[1;32mc:\\Users\\migue\\AppData\\Local\\Programs\\Python\\Python310\\lib\\site-packages\\polars\\dataframe\\frame.py:365\u001b[0m, in \u001b[0;36mDataFrame.__init__\u001b[1;34m(self, data, schema, schema_overrides, strict, orient, infer_schema_length, nan_to_null)\u001b[0m\n\u001b[0;32m    360\u001b[0m     \u001b[38;5;28mself\u001b[39m\u001b[38;5;241m.\u001b[39m_df \u001b[38;5;241m=\u001b[39m dict_to_pydf(\n\u001b[0;32m    361\u001b[0m         {}, schema\u001b[38;5;241m=\u001b[39mschema, schema_overrides\u001b[38;5;241m=\u001b[39mschema_overrides\n\u001b[0;32m    362\u001b[0m     )\n\u001b[0;32m    364\u001b[0m \u001b[38;5;28;01melif\u001b[39;00m \u001b[38;5;28misinstance\u001b[39m(data, \u001b[38;5;28mdict\u001b[39m):\n\u001b[1;32m--> 365\u001b[0m     \u001b[38;5;28mself\u001b[39m\u001b[38;5;241m.\u001b[39m_df \u001b[38;5;241m=\u001b[39m \u001b[43mdict_to_pydf\u001b[49m\u001b[43m(\u001b[49m\n\u001b[0;32m    366\u001b[0m \u001b[43m        \u001b[49m\u001b[43mdata\u001b[49m\u001b[43m,\u001b[49m\n\u001b[0;32m    367\u001b[0m \u001b[43m        \u001b[49m\u001b[43mschema\u001b[49m\u001b[38;5;241;43m=\u001b[39;49m\u001b[43mschema\u001b[49m\u001b[43m,\u001b[49m\n\u001b[0;32m    368\u001b[0m \u001b[43m        \u001b[49m\u001b[43mschema_overrides\u001b[49m\u001b[38;5;241;43m=\u001b[39;49m\u001b[43mschema_overrides\u001b[49m\u001b[43m,\u001b[49m\n\u001b[0;32m    369\u001b[0m \u001b[43m        \u001b[49m\u001b[43mstrict\u001b[49m\u001b[38;5;241;43m=\u001b[39;49m\u001b[43mstrict\u001b[49m\u001b[43m,\u001b[49m\n\u001b[0;32m    370\u001b[0m \u001b[43m        \u001b[49m\u001b[43mnan_to_null\u001b[49m\u001b[38;5;241;43m=\u001b[39;49m\u001b[43mnan_to_null\u001b[49m\u001b[43m,\u001b[49m\n\u001b[0;32m    371\u001b[0m \u001b[43m    \u001b[49m\u001b[43m)\u001b[49m\n\u001b[0;32m    373\u001b[0m \u001b[38;5;28;01melif\u001b[39;00m \u001b[38;5;28misinstance\u001b[39m(data, (\u001b[38;5;28mlist\u001b[39m, \u001b[38;5;28mtuple\u001b[39m, Sequence)):\n\u001b[0;32m    374\u001b[0m     \u001b[38;5;28mself\u001b[39m\u001b[38;5;241m.\u001b[39m_df \u001b[38;5;241m=\u001b[39m sequence_to_pydf(\n\u001b[0;32m    375\u001b[0m         data,\n\u001b[0;32m    376\u001b[0m         schema\u001b[38;5;241m=\u001b[39mschema,\n\u001b[1;32m   (...)\u001b[0m\n\u001b[0;32m    380\u001b[0m         infer_schema_length\u001b[38;5;241m=\u001b[39minfer_schema_length,\n\u001b[0;32m    381\u001b[0m     )\n",
      "File \u001b[1;32mc:\\Users\\migue\\AppData\\Local\\Programs\\Python\\Python310\\lib\\site-packages\\polars\\_utils\\construction\\dataframe.py:160\u001b[0m, in \u001b[0;36mdict_to_pydf\u001b[1;34m(data, schema, schema_overrides, strict, nan_to_null, allow_multithreaded)\u001b[0m\n\u001b[0;32m    147\u001b[0m     data_series \u001b[38;5;241m=\u001b[39m [\n\u001b[0;32m    148\u001b[0m         pl\u001b[38;5;241m.\u001b[39mSeries(\n\u001b[0;32m    149\u001b[0m             name,\n\u001b[1;32m   (...)\u001b[0m\n\u001b[0;32m    155\u001b[0m         \u001b[38;5;28;01mfor\u001b[39;00m name \u001b[38;5;129;01min\u001b[39;00m column_names\n\u001b[0;32m    156\u001b[0m     ]\n\u001b[0;32m    157\u001b[0m \u001b[38;5;28;01melse\u001b[39;00m:\n\u001b[0;32m    158\u001b[0m     data_series \u001b[38;5;241m=\u001b[39m [\n\u001b[0;32m    159\u001b[0m         s\u001b[38;5;241m.\u001b[39m_s\n\u001b[1;32m--> 160\u001b[0m         \u001b[38;5;28;01mfor\u001b[39;00m s \u001b[38;5;129;01min\u001b[39;00m \u001b[43m_expand_dict_values\u001b[49m\u001b[43m(\u001b[49m\n\u001b[0;32m    161\u001b[0m \u001b[43m            \u001b[49m\u001b[43mdata\u001b[49m\u001b[43m,\u001b[49m\n\u001b[0;32m    162\u001b[0m \u001b[43m            \u001b[49m\u001b[43mschema_overrides\u001b[49m\u001b[38;5;241;43m=\u001b[39;49m\u001b[43mschema_overrides\u001b[49m\u001b[43m,\u001b[49m\n\u001b[0;32m    163\u001b[0m \u001b[43m            \u001b[49m\u001b[43mstrict\u001b[49m\u001b[38;5;241;43m=\u001b[39;49m\u001b[43mstrict\u001b[49m\u001b[43m,\u001b[49m\n\u001b[0;32m    164\u001b[0m \u001b[43m            \u001b[49m\u001b[43mnan_to_null\u001b[49m\u001b[38;5;241;43m=\u001b[39;49m\u001b[43mnan_to_null\u001b[49m\u001b[43m,\u001b[49m\n\u001b[0;32m    165\u001b[0m \u001b[43m        \u001b[49m\u001b[43m)\u001b[49m\u001b[38;5;241m.\u001b[39mvalues()\n\u001b[0;32m    166\u001b[0m     ]\n\u001b[0;32m    168\u001b[0m data_series \u001b[38;5;241m=\u001b[39m _handle_columns_arg(data_series, columns\u001b[38;5;241m=\u001b[39mcolumn_names, from_dict\u001b[38;5;241m=\u001b[39m\u001b[38;5;28;01mTrue\u001b[39;00m)\n\u001b[0;32m    169\u001b[0m pydf \u001b[38;5;241m=\u001b[39m PyDataFrame(data_series)\n",
      "File \u001b[1;32mc:\\Users\\migue\\AppData\\Local\\Programs\\Python\\Python310\\lib\\site-packages\\polars\\_utils\\construction\\dataframe.py:367\u001b[0m, in \u001b[0;36m_expand_dict_values\u001b[1;34m(data, schema_overrides, strict, order, nan_to_null)\u001b[0m\n\u001b[0;32m    365\u001b[0m dtype \u001b[38;5;241m=\u001b[39m dtypes\u001b[38;5;241m.\u001b[39mget(name)\n\u001b[0;32m    366\u001b[0m \u001b[38;5;28;01mif\u001b[39;00m \u001b[38;5;28misinstance\u001b[39m(val, \u001b[38;5;28mdict\u001b[39m) \u001b[38;5;129;01mand\u001b[39;00m dtype \u001b[38;5;241m!=\u001b[39m Struct:\n\u001b[1;32m--> 367\u001b[0m     vdf \u001b[38;5;241m=\u001b[39m \u001b[43mpl\u001b[49m\u001b[38;5;241;43m.\u001b[39;49m\u001b[43mDataFrame\u001b[49m\u001b[43m(\u001b[49m\u001b[43mval\u001b[49m\u001b[43m,\u001b[49m\u001b[43m \u001b[49m\u001b[43mstrict\u001b[49m\u001b[38;5;241;43m=\u001b[39;49m\u001b[43mstrict\u001b[49m\u001b[43m)\u001b[49m\n\u001b[0;32m    368\u001b[0m     \u001b[38;5;28;01mif\u001b[39;00m (\n\u001b[0;32m    369\u001b[0m         \u001b[38;5;28mlen\u001b[39m(vdf) \u001b[38;5;241m==\u001b[39m \u001b[38;5;241m1\u001b[39m\n\u001b[0;32m    370\u001b[0m         \u001b[38;5;129;01mand\u001b[39;00m array_len \u001b[38;5;241m>\u001b[39m \u001b[38;5;241m1\u001b[39m\n\u001b[0;32m    371\u001b[0m         \u001b[38;5;129;01mand\u001b[39;00m \u001b[38;5;28mall\u001b[39m(\u001b[38;5;129;01mnot\u001b[39;00m d\u001b[38;5;241m.\u001b[39mis_nested() \u001b[38;5;28;01mfor\u001b[39;00m d \u001b[38;5;129;01min\u001b[39;00m vdf\u001b[38;5;241m.\u001b[39mschema\u001b[38;5;241m.\u001b[39mvalues())\n\u001b[0;32m    372\u001b[0m     ):\n\u001b[0;32m    373\u001b[0m         s_vals \u001b[38;5;241m=\u001b[39m {\n\u001b[0;32m    374\u001b[0m             nm: vdf[nm]\u001b[38;5;241m.\u001b[39mextend_constant(v, n\u001b[38;5;241m=\u001b[39m(array_len \u001b[38;5;241m-\u001b[39m \u001b[38;5;241m1\u001b[39m))\n\u001b[0;32m    375\u001b[0m             \u001b[38;5;28;01mfor\u001b[39;00m nm, v \u001b[38;5;129;01min\u001b[39;00m val\u001b[38;5;241m.\u001b[39mitems()\n\u001b[0;32m    376\u001b[0m         }\n",
      "File \u001b[1;32mc:\\Users\\migue\\AppData\\Local\\Programs\\Python\\Python310\\lib\\site-packages\\polars\\dataframe\\frame.py:365\u001b[0m, in \u001b[0;36mDataFrame.__init__\u001b[1;34m(self, data, schema, schema_overrides, strict, orient, infer_schema_length, nan_to_null)\u001b[0m\n\u001b[0;32m    360\u001b[0m     \u001b[38;5;28mself\u001b[39m\u001b[38;5;241m.\u001b[39m_df \u001b[38;5;241m=\u001b[39m dict_to_pydf(\n\u001b[0;32m    361\u001b[0m         {}, schema\u001b[38;5;241m=\u001b[39mschema, schema_overrides\u001b[38;5;241m=\u001b[39mschema_overrides\n\u001b[0;32m    362\u001b[0m     )\n\u001b[0;32m    364\u001b[0m \u001b[38;5;28;01melif\u001b[39;00m \u001b[38;5;28misinstance\u001b[39m(data, \u001b[38;5;28mdict\u001b[39m):\n\u001b[1;32m--> 365\u001b[0m     \u001b[38;5;28mself\u001b[39m\u001b[38;5;241m.\u001b[39m_df \u001b[38;5;241m=\u001b[39m \u001b[43mdict_to_pydf\u001b[49m\u001b[43m(\u001b[49m\n\u001b[0;32m    366\u001b[0m \u001b[43m        \u001b[49m\u001b[43mdata\u001b[49m\u001b[43m,\u001b[49m\n\u001b[0;32m    367\u001b[0m \u001b[43m        \u001b[49m\u001b[43mschema\u001b[49m\u001b[38;5;241;43m=\u001b[39;49m\u001b[43mschema\u001b[49m\u001b[43m,\u001b[49m\n\u001b[0;32m    368\u001b[0m \u001b[43m        \u001b[49m\u001b[43mschema_overrides\u001b[49m\u001b[38;5;241;43m=\u001b[39;49m\u001b[43mschema_overrides\u001b[49m\u001b[43m,\u001b[49m\n\u001b[0;32m    369\u001b[0m \u001b[43m        \u001b[49m\u001b[43mstrict\u001b[49m\u001b[38;5;241;43m=\u001b[39;49m\u001b[43mstrict\u001b[49m\u001b[43m,\u001b[49m\n\u001b[0;32m    370\u001b[0m \u001b[43m        \u001b[49m\u001b[43mnan_to_null\u001b[49m\u001b[38;5;241;43m=\u001b[39;49m\u001b[43mnan_to_null\u001b[49m\u001b[43m,\u001b[49m\n\u001b[0;32m    371\u001b[0m \u001b[43m    \u001b[49m\u001b[43m)\u001b[49m\n\u001b[0;32m    373\u001b[0m \u001b[38;5;28;01melif\u001b[39;00m \u001b[38;5;28misinstance\u001b[39m(data, (\u001b[38;5;28mlist\u001b[39m, \u001b[38;5;28mtuple\u001b[39m, Sequence)):\n\u001b[0;32m    374\u001b[0m     \u001b[38;5;28mself\u001b[39m\u001b[38;5;241m.\u001b[39m_df \u001b[38;5;241m=\u001b[39m sequence_to_pydf(\n\u001b[0;32m    375\u001b[0m         data,\n\u001b[0;32m    376\u001b[0m         schema\u001b[38;5;241m=\u001b[39mschema,\n\u001b[1;32m   (...)\u001b[0m\n\u001b[0;32m    380\u001b[0m         infer_schema_length\u001b[38;5;241m=\u001b[39minfer_schema_length,\n\u001b[0;32m    381\u001b[0m     )\n",
      "File \u001b[1;32mc:\\Users\\migue\\AppData\\Local\\Programs\\Python\\Python310\\lib\\site-packages\\polars\\_utils\\construction\\dataframe.py:169\u001b[0m, in \u001b[0;36mdict_to_pydf\u001b[1;34m(data, schema, schema_overrides, strict, nan_to_null, allow_multithreaded)\u001b[0m\n\u001b[0;32m    158\u001b[0m     data_series \u001b[38;5;241m=\u001b[39m [\n\u001b[0;32m    159\u001b[0m         s\u001b[38;5;241m.\u001b[39m_s\n\u001b[0;32m    160\u001b[0m         \u001b[38;5;28;01mfor\u001b[39;00m s \u001b[38;5;129;01min\u001b[39;00m _expand_dict_values(\n\u001b[1;32m   (...)\u001b[0m\n\u001b[0;32m    165\u001b[0m         )\u001b[38;5;241m.\u001b[39mvalues()\n\u001b[0;32m    166\u001b[0m     ]\n\u001b[0;32m    168\u001b[0m data_series \u001b[38;5;241m=\u001b[39m _handle_columns_arg(data_series, columns\u001b[38;5;241m=\u001b[39mcolumn_names, from_dict\u001b[38;5;241m=\u001b[39m\u001b[38;5;28;01mTrue\u001b[39;00m)\n\u001b[1;32m--> 169\u001b[0m pydf \u001b[38;5;241m=\u001b[39m \u001b[43mPyDataFrame\u001b[49m\u001b[43m(\u001b[49m\u001b[43mdata_series\u001b[49m\u001b[43m)\u001b[49m\n\u001b[0;32m    171\u001b[0m \u001b[38;5;28;01mif\u001b[39;00m schema_overrides \u001b[38;5;129;01mand\u001b[39;00m pydf\u001b[38;5;241m.\u001b[39mdtypes() \u001b[38;5;241m!=\u001b[39m \u001b[38;5;28mlist\u001b[39m(schema_overrides\u001b[38;5;241m.\u001b[39mvalues()):\n\u001b[0;32m    172\u001b[0m     pydf \u001b[38;5;241m=\u001b[39m _post_apply_columns(\n\u001b[0;32m    173\u001b[0m         pydf, column_names, schema_overrides\u001b[38;5;241m=\u001b[39mschema_overrides, strict\u001b[38;5;241m=\u001b[39mstrict\n\u001b[0;32m    174\u001b[0m     )\n",
      "\u001b[1;31mShapeError\u001b[0m: could not create a new DataFrame: series 2 has length 2 while series \"user\" has length 0"
     ]
    }
   ],
   "source": [
    "with open(file_path) as json_file:\n",
    "    pl_data = [pl.DataFrame(json.loads(line), schema=cols) for line in json_file.readlines()]\n",
    "\n",
    "pl_tweets = pl.DataFrame(pl.concat(pl_data))\n",
    "pl_tweets"
   ]
  },
  {
   "cell_type": "markdown",
   "metadata": {},
   "source": [
    "Tampoco sirve, por la composición del archivo."
   ]
  },
  {
   "cell_type": "code",
   "execution_count": null,
   "metadata": {},
   "outputs": [],
   "source": []
  },
  {
   "cell_type": "markdown",
   "metadata": {},
   "source": [
    "# Se trabajara como diccionario"
   ]
  },
  {
   "cell_type": "code",
   "execution_count": 23,
   "metadata": {},
   "outputs": [
    {
     "data": {
      "text/plain": [
       "{'url': 'https://twitter.com/ArjunSinghPanam/status/1364506249291784198',\n",
       " 'date': '2021-02-24T09:23:35+00:00',\n",
       " 'content': 'The world progresses while the Indian police and Govt are still trying to take India back to the horrific past through its tyranny. \\n\\n@narendramodi @DelhiPolice Shame on you. \\n\\n#ModiDontSellFarmers \\n#FarmersProtest \\n#FreeNodeepKaur https://t.co/es3kn0IQAF',\n",
       " 'renderedContent': 'The world progresses while the Indian police and Govt are still trying to take India back to the horrific past through its tyranny. \\n\\n@narendramodi @DelhiPolice Shame on you. \\n\\n#ModiDontSellFarmers \\n#FarmersProtest \\n#FreeNodeepKaur twitter.com/ravisinghka/st…',\n",
       " 'id': 1364506249291784198,\n",
       " 'user': {'username': 'ArjunSinghPanam',\n",
       "  'displayname': 'Arjun Singh Panam',\n",
       "  'id': 45091142,\n",
       "  'description': 'Global Citizen, Actor, Director: Sky is the roof above my head, the world is the road I travel, love is my food & mother earth is my bed. Roy in @CosmosMovie',\n",
       "  'rawDescription': 'Global Citizen, Actor, Director: Sky is the roof above my head, the world is the road I travel, love is my food & mother earth is my bed. Roy in @CosmosMovie',\n",
       "  'descriptionUrls': [],\n",
       "  'verified': False,\n",
       "  'created': '2009-06-06T07:50:57+00:00',\n",
       "  'followersCount': 603,\n",
       "  'friendsCount': 311,\n",
       "  'statusesCount': 17534,\n",
       "  'favouritesCount': 4269,\n",
       "  'listedCount': 23,\n",
       "  'mediaCount': 1211,\n",
       "  'location': '',\n",
       "  'protected': False,\n",
       "  'linkUrl': 'https://www.cosmosmovieofficial.com',\n",
       "  'linkTcourl': 'https://t.co/3uaoV3gCt3',\n",
       "  'profileImageUrl': 'https://pbs.twimg.com/profile_images/1215541746492461056/3De61YoQ_normal.jpg',\n",
       "  'profileBannerUrl': 'https://pbs.twimg.com/profile_banners/45091142/1612601766',\n",
       "  'url': 'https://twitter.com/ArjunSinghPanam'},\n",
       " 'outlinks': ['https://twitter.com/ravisinghka/status/1364150844757860352'],\n",
       " 'tcooutlinks': ['https://t.co/es3kn0IQAF'],\n",
       " 'replyCount': 0,\n",
       " 'retweetCount': 0,\n",
       " 'likeCount': 0,\n",
       " 'quoteCount': 0,\n",
       " 'conversationId': 1364506249291784198,\n",
       " 'lang': 'en',\n",
       " 'source': '<a href=\"http://twitter.com/download/iphone\" rel=\"nofollow\">Twitter for iPhone</a>',\n",
       " 'sourceUrl': 'http://twitter.com/download/iphone',\n",
       " 'sourceLabel': 'Twitter for iPhone',\n",
       " 'media': None,\n",
       " 'retweetedTweet': None,\n",
       " 'quotedTweet': {'url': 'https://twitter.com/RaviSinghKA/status/1364150844757860352',\n",
       "  'date': '2021-02-23T09:51:20+00:00',\n",
       "  'content': 'This is what the indian police are good at, beating &amp; raping women ! @police_haryana @DelhiPolice \\n\\nhttps://t.co/mj1qzF7nGh',\n",
       "  'renderedContent': 'This is what the indian police are good at, beating &amp; raping women ! @police_haryana @DelhiPolice \\n\\ngoogle.co.uk/amp/s/m.timeso…',\n",
       "  'id': 1364150844757860352,\n",
       "  'user': {'username': 'RaviSinghKA',\n",
       "   'displayname': 'ravinder singh',\n",
       "   'id': 2347762888,\n",
       "   'description': 'Founder/CEO of Khalsa Aid, Sikh,philanthropist, 20 Years of coordinating aid,humanitarian & passionate about human rights.All views my own:Inc working in Iraq',\n",
       "   'rawDescription': 'Founder/CEO of Khalsa Aid, Sikh,philanthropist, 20 Years of coordinating aid,humanitarian & passionate about human rights.All views my own:Inc working in Iraq',\n",
       "   'descriptionUrls': [],\n",
       "   'verified': False,\n",
       "   'created': '2014-02-16T23:38:54+00:00',\n",
       "   'followersCount': 227423,\n",
       "   'friendsCount': 4042,\n",
       "   'statusesCount': 38683,\n",
       "   'favouritesCount': 30134,\n",
       "   'listedCount': 212,\n",
       "   'mediaCount': 4944,\n",
       "   'location': 'Slough, England ',\n",
       "   'protected': False,\n",
       "   'linkUrl': 'http://www.khalsaaid.org',\n",
       "   'linkTcourl': 'https://t.co/cgdi8BLkK2',\n",
       "   'profileImageUrl': 'https://pbs.twimg.com/profile_images/686526444642643968/bnCPdE7N_normal.jpg',\n",
       "   'profileBannerUrl': 'https://pbs.twimg.com/profile_banners/2347762888/1591307489',\n",
       "   'url': 'https://twitter.com/RaviSinghKA'},\n",
       "  'outlinks': ['https://www.google.co.uk/amp/s/m.timesofindia.com/city/chandigarh/was-brutally-thrashed-in-thana-nodeep-kaur-tells-punjab-and-haryana-high-court/amp_articleshow/81164092.cms'],\n",
       "  'tcooutlinks': ['https://t.co/mj1qzF7nGh'],\n",
       "  'replyCount': 66,\n",
       "  'retweetCount': 744,\n",
       "  'likeCount': 1939,\n",
       "  'quoteCount': 59,\n",
       "  'conversationId': 1364150844757860352,\n",
       "  'lang': 'en',\n",
       "  'source': '<a href=\"http://twitter.com/download/iphone\" rel=\"nofollow\">Twitter for iPhone</a>',\n",
       "  'sourceUrl': 'http://twitter.com/download/iphone',\n",
       "  'sourceLabel': 'Twitter for iPhone',\n",
       "  'media': None,\n",
       "  'retweetedTweet': None,\n",
       "  'quotedTweet': None,\n",
       "  'mentionedUsers': [{'username': 'police_haryana',\n",
       "    'displayname': 'Haryana Police',\n",
       "    'id': 887564756629966848,\n",
       "    'description': None,\n",
       "    'rawDescription': None,\n",
       "    'descriptionUrls': None,\n",
       "    'verified': None,\n",
       "    'created': None,\n",
       "    'followersCount': None,\n",
       "    'friendsCount': None,\n",
       "    'statusesCount': None,\n",
       "    'favouritesCount': None,\n",
       "    'listedCount': None,\n",
       "    'mediaCount': None,\n",
       "    'location': None,\n",
       "    'protected': None,\n",
       "    'linkUrl': None,\n",
       "    'linkTcourl': None,\n",
       "    'profileImageUrl': None,\n",
       "    'profileBannerUrl': None,\n",
       "    'url': 'https://twitter.com/police_haryana'},\n",
       "   {'username': 'DelhiPolice',\n",
       "    'displayname': '#DilKiPolice Delhi Police',\n",
       "    'id': 1850705408,\n",
       "    'description': None,\n",
       "    'rawDescription': None,\n",
       "    'descriptionUrls': None,\n",
       "    'verified': None,\n",
       "    'created': None,\n",
       "    'followersCount': None,\n",
       "    'friendsCount': None,\n",
       "    'statusesCount': None,\n",
       "    'favouritesCount': None,\n",
       "    'listedCount': None,\n",
       "    'mediaCount': None,\n",
       "    'location': None,\n",
       "    'protected': None,\n",
       "    'linkUrl': None,\n",
       "    'linkTcourl': None,\n",
       "    'profileImageUrl': None,\n",
       "    'profileBannerUrl': None,\n",
       "    'url': 'https://twitter.com/DelhiPolice'}]},\n",
       " 'mentionedUsers': [{'username': 'narendramodi',\n",
       "   'displayname': 'Narendra Modi',\n",
       "   'id': 18839785,\n",
       "   'description': None,\n",
       "   'rawDescription': None,\n",
       "   'descriptionUrls': None,\n",
       "   'verified': None,\n",
       "   'created': None,\n",
       "   'followersCount': None,\n",
       "   'friendsCount': None,\n",
       "   'statusesCount': None,\n",
       "   'favouritesCount': None,\n",
       "   'listedCount': None,\n",
       "   'mediaCount': None,\n",
       "   'location': None,\n",
       "   'protected': None,\n",
       "   'linkUrl': None,\n",
       "   'linkTcourl': None,\n",
       "   'profileImageUrl': None,\n",
       "   'profileBannerUrl': None,\n",
       "   'url': 'https://twitter.com/narendramodi'},\n",
       "  {'username': 'DelhiPolice',\n",
       "   'displayname': '#DilKiPolice Delhi Police',\n",
       "   'id': 1850705408,\n",
       "   'description': None,\n",
       "   'rawDescription': None,\n",
       "   'descriptionUrls': None,\n",
       "   'verified': None,\n",
       "   'created': None,\n",
       "   'followersCount': None,\n",
       "   'friendsCount': None,\n",
       "   'statusesCount': None,\n",
       "   'favouritesCount': None,\n",
       "   'listedCount': None,\n",
       "   'mediaCount': None,\n",
       "   'location': None,\n",
       "   'protected': None,\n",
       "   'linkUrl': None,\n",
       "   'linkTcourl': None,\n",
       "   'profileImageUrl': None,\n",
       "   'profileBannerUrl': None,\n",
       "   'url': 'https://twitter.com/DelhiPolice'}]}"
      ]
     },
     "execution_count": 23,
     "metadata": {},
     "output_type": "execute_result"
    }
   ],
   "source": [
    "data[0]"
   ]
  },
  {
   "cell_type": "code",
   "execution_count": 27,
   "metadata": {},
   "outputs": [
    {
     "data": {
      "text/plain": [
       "('https://twitter.com/ArjunSinghPanam/status/1364506249291784198',\n",
       " 1364506249291784198,\n",
       " 'ArjunSinghPanam',\n",
       " '2021-02-24T09:23:35+00:00')"
      ]
     },
     "execution_count": 27,
     "metadata": {},
     "output_type": "execute_result"
    }
   ],
   "source": [
    "data[0]['url'], data[0]['id'], data[0]['user']['username'], data[0]['date']"
   ]
  },
  {
   "cell_type": "markdown",
   "metadata": {},
   "source": [
    "Se comprueba que es posible a acceder a los valores de los diccionarios anidados mediante el uso de keys del diccionario."
   ]
  },
  {
   "cell_type": "code",
   "execution_count": 22,
   "metadata": {},
   "outputs": [
    {
     "data": {
      "text/html": [
       "<div><style>\n",
       ".dataframe > thead > tr,\n",
       ".dataframe > tbody > tr {\n",
       "  text-align: right;\n",
       "  white-space: pre-wrap;\n",
       "}\n",
       "</style>\n",
       "<small>shape: (117_407, 3)</small><table border=\"1\" class=\"dataframe\"><thead><tr><th>id</th><th>usernames</th><th>dates</th></tr><tr><td>i64</td><td>str</td><td>str</td></tr></thead><tbody><tr><td>1364506249291784198</td><td>&quot;ArjunSinghPanam&quot;</td><td>&quot;2021-02-24T09:23:35+00:00&quot;</td></tr><tr><td>1364506237451313155</td><td>&quot;PrdeepNain&quot;</td><td>&quot;2021-02-24T09:23:32+00:00&quot;</td></tr><tr><td>1364506195453767680</td><td>&quot;parmarmaninder&quot;</td><td>&quot;2021-02-24T09:23:22+00:00&quot;</td></tr><tr><td>1364506167226032128</td><td>&quot;anmoldhaliwal&quot;</td><td>&quot;2021-02-24T09:23:16+00:00&quot;</td></tr><tr><td>1364506144002088963</td><td>&quot;KotiaPreet&quot;</td><td>&quot;2021-02-24T09:23:10+00:00&quot;</td></tr><tr><td>&hellip;</td><td>&hellip;</td><td>&hellip;</td></tr><tr><td>1360040182771163138</td><td>&quot;rickyrickstir&quot;</td><td>&quot;2021-02-12T01:37:02+00:00&quot;</td></tr><tr><td>1360040146402373637</td><td>&quot;PunjabTak&quot;</td><td>&quot;2021-02-12T01:36:53+00:00&quot;</td></tr><tr><td>1360040134230556678</td><td>&quot;ish_kayy&quot;</td><td>&quot;2021-02-12T01:36:50+00:00&quot;</td></tr><tr><td>1360040127679000577</td><td>&quot;TV9Bharatvarsh&quot;</td><td>&quot;2021-02-12T01:36:49+00:00&quot;</td></tr><tr><td>1360040127146430470</td><td>&quot;SikhVibes&quot;</td><td>&quot;2021-02-12T01:36:49+00:00&quot;</td></tr></tbody></table></div>"
      ],
      "text/plain": [
       "shape: (117_407, 3)\n",
       "┌─────────────────────┬─────────────────┬───────────────────────────┐\n",
       "│ id                  ┆ usernames       ┆ dates                     │\n",
       "│ ---                 ┆ ---             ┆ ---                       │\n",
       "│ i64                 ┆ str             ┆ str                       │\n",
       "╞═════════════════════╪═════════════════╪═══════════════════════════╡\n",
       "│ 1364506249291784198 ┆ ArjunSinghPanam ┆ 2021-02-24T09:23:35+00:00 │\n",
       "│ 1364506237451313155 ┆ PrdeepNain      ┆ 2021-02-24T09:23:32+00:00 │\n",
       "│ 1364506195453767680 ┆ parmarmaninder  ┆ 2021-02-24T09:23:22+00:00 │\n",
       "│ 1364506167226032128 ┆ anmoldhaliwal   ┆ 2021-02-24T09:23:16+00:00 │\n",
       "│ 1364506144002088963 ┆ KotiaPreet      ┆ 2021-02-24T09:23:10+00:00 │\n",
       "│ …                   ┆ …               ┆ …                         │\n",
       "│ 1360040182771163138 ┆ rickyrickstir   ┆ 2021-02-12T01:37:02+00:00 │\n",
       "│ 1360040146402373637 ┆ PunjabTak       ┆ 2021-02-12T01:36:53+00:00 │\n",
       "│ 1360040134230556678 ┆ ish_kayy        ┆ 2021-02-12T01:36:50+00:00 │\n",
       "│ 1360040127679000577 ┆ TV9Bharatvarsh  ┆ 2021-02-12T01:36:49+00:00 │\n",
       "│ 1360040127146430470 ┆ SikhVibes       ┆ 2021-02-12T01:36:49+00:00 │\n",
       "└─────────────────────┴─────────────────┴───────────────────────────┘"
      ]
     },
     "execution_count": 22,
     "metadata": {},
     "output_type": "execute_result"
    }
   ],
   "source": [
    "dates = {}\n",
    "usernames = {}\n",
    "with open(file_path) as json_file:\n",
    "    for line in json_file.readlines():\n",
    "        json_obj = json.loads(line)\n",
    "        id = json_obj['id']\n",
    "        dates[id] = json_obj['date']\n",
    "        usernames[id] = json_obj['user']['username']\n",
    "\n",
    "usernames_dict = {'id': list(usernames.keys()), 'usernames': list(usernames.values())}\n",
    "dates_dict = {'id': list(dates.keys()), 'dates': list(dates.values())}\n",
    "pl_usernames = pl.DataFrame(usernames_dict)\n",
    "pl_dates = pl.DataFrame(dates_dict)\n",
    "pl_data = pl_usernames.join(pl_dates, how='inner', on='id')\n",
    "pl_data"
   ]
  },
  {
   "cell_type": "code",
   "execution_count": 55,
   "metadata": {},
   "outputs": [
    {
     "data": {
      "text/html": [
       "<div><style>\n",
       ".dataframe > thead > tr,\n",
       ".dataframe > tbody > tr {\n",
       "  text-align: right;\n",
       "  white-space: pre-wrap;\n",
       "}\n",
       "</style>\n",
       "<small>shape: (117_407, 3)</small><table border=\"1\" class=\"dataframe\"><thead><tr><th>id</th><th>username</th><th>date</th></tr><tr><td>i64</td><td>str</td><td>str</td></tr></thead><tbody><tr><td>1364506249291784198</td><td>&quot;ArjunSinghPanam&quot;</td><td>&quot;2021-02-24T09:23:35+00:00&quot;</td></tr><tr><td>1364506237451313155</td><td>&quot;PrdeepNain&quot;</td><td>&quot;2021-02-24T09:23:32+00:00&quot;</td></tr><tr><td>1364506195453767680</td><td>&quot;parmarmaninder&quot;</td><td>&quot;2021-02-24T09:23:22+00:00&quot;</td></tr><tr><td>1364506167226032128</td><td>&quot;anmoldhaliwal&quot;</td><td>&quot;2021-02-24T09:23:16+00:00&quot;</td></tr><tr><td>1364506144002088963</td><td>&quot;KotiaPreet&quot;</td><td>&quot;2021-02-24T09:23:10+00:00&quot;</td></tr><tr><td>&hellip;</td><td>&hellip;</td><td>&hellip;</td></tr><tr><td>1360040182771163138</td><td>&quot;rickyrickstir&quot;</td><td>&quot;2021-02-12T01:37:02+00:00&quot;</td></tr><tr><td>1360040146402373637</td><td>&quot;PunjabTak&quot;</td><td>&quot;2021-02-12T01:36:53+00:00&quot;</td></tr><tr><td>1360040134230556678</td><td>&quot;ish_kayy&quot;</td><td>&quot;2021-02-12T01:36:50+00:00&quot;</td></tr><tr><td>1360040127679000577</td><td>&quot;TV9Bharatvarsh&quot;</td><td>&quot;2021-02-12T01:36:49+00:00&quot;</td></tr><tr><td>1360040127146430470</td><td>&quot;SikhVibes&quot;</td><td>&quot;2021-02-12T01:36:49+00:00&quot;</td></tr></tbody></table></div>"
      ],
      "text/plain": [
       "shape: (117_407, 3)\n",
       "┌─────────────────────┬─────────────────┬───────────────────────────┐\n",
       "│ id                  ┆ username        ┆ date                      │\n",
       "│ ---                 ┆ ---             ┆ ---                       │\n",
       "│ i64                 ┆ str             ┆ str                       │\n",
       "╞═════════════════════╪═════════════════╪═══════════════════════════╡\n",
       "│ 1364506249291784198 ┆ ArjunSinghPanam ┆ 2021-02-24T09:23:35+00:00 │\n",
       "│ 1364506237451313155 ┆ PrdeepNain      ┆ 2021-02-24T09:23:32+00:00 │\n",
       "│ 1364506195453767680 ┆ parmarmaninder  ┆ 2021-02-24T09:23:22+00:00 │\n",
       "│ 1364506167226032128 ┆ anmoldhaliwal   ┆ 2021-02-24T09:23:16+00:00 │\n",
       "│ 1364506144002088963 ┆ KotiaPreet      ┆ 2021-02-24T09:23:10+00:00 │\n",
       "│ …                   ┆ …               ┆ …                         │\n",
       "│ 1360040182771163138 ┆ rickyrickstir   ┆ 2021-02-12T01:37:02+00:00 │\n",
       "│ 1360040146402373637 ┆ PunjabTak       ┆ 2021-02-12T01:36:53+00:00 │\n",
       "│ 1360040134230556678 ┆ ish_kayy        ┆ 2021-02-12T01:36:50+00:00 │\n",
       "│ 1360040127679000577 ┆ TV9Bharatvarsh  ┆ 2021-02-12T01:36:49+00:00 │\n",
       "│ 1360040127146430470 ┆ SikhVibes       ┆ 2021-02-12T01:36:49+00:00 │\n",
       "└─────────────────────┴─────────────────┴───────────────────────────┘"
      ]
     },
     "execution_count": 55,
     "metadata": {},
     "output_type": "execute_result"
    }
   ],
   "source": [
    "dict_data = {}\n",
    "ids = []\n",
    "dates = []\n",
    "usernames = []\n",
    "with open(file_path) as json_file:\n",
    "    for line in json_file.readlines():\n",
    "        json_obj = json.loads(line)\n",
    "        ids.append(json_obj['id'])\n",
    "        dates.append(json_obj['date'])\n",
    "        usernames.append(json_obj['user']['username'])\n",
    "\n",
    "dict_data['id'] = ids\n",
    "dict_data['username'] = usernames\n",
    "dict_data['date'] = dates\n",
    "pl_data = pl.DataFrame(dict_data)\n",
    "del dict_data, ids, usernames, dates\n",
    "pl_data"
   ]
  },
  {
   "cell_type": "code",
   "execution_count": 56,
   "metadata": {},
   "outputs": [
    {
     "data": {
      "text/html": [
       "<div><style>\n",
       ".dataframe > thead > tr,\n",
       ".dataframe > tbody > tr {\n",
       "  text-align: right;\n",
       "  white-space: pre-wrap;\n",
       "}\n",
       "</style>\n",
       "<small>shape: (10, 2)</small><table border=\"1\" class=\"dataframe\"><thead><tr><th>date_only</th><th>count</th></tr><tr><td>date</td><td>u32</td></tr></thead><tbody><tr><td>2021-02-12</td><td>12347</td></tr><tr><td>2021-02-13</td><td>11296</td></tr><tr><td>2021-02-17</td><td>11087</td></tr><tr><td>2021-02-16</td><td>10443</td></tr><tr><td>2021-02-14</td><td>10249</td></tr><tr><td>2021-02-18</td><td>9625</td></tr><tr><td>2021-02-15</td><td>9197</td></tr><tr><td>2021-02-20</td><td>8502</td></tr><tr><td>2021-02-23</td><td>8417</td></tr><tr><td>2021-02-19</td><td>8204</td></tr></tbody></table></div>"
      ],
      "text/plain": [
       "shape: (10, 2)\n",
       "┌────────────┬───────┐\n",
       "│ date_only  ┆ count │\n",
       "│ ---        ┆ ---   │\n",
       "│ date       ┆ u32   │\n",
       "╞════════════╪═══════╡\n",
       "│ 2021-02-12 ┆ 12347 │\n",
       "│ 2021-02-13 ┆ 11296 │\n",
       "│ 2021-02-17 ┆ 11087 │\n",
       "│ 2021-02-16 ┆ 10443 │\n",
       "│ 2021-02-14 ┆ 10249 │\n",
       "│ 2021-02-18 ┆ 9625  │\n",
       "│ 2021-02-15 ┆ 9197  │\n",
       "│ 2021-02-20 ┆ 8502  │\n",
       "│ 2021-02-23 ┆ 8417  │\n",
       "│ 2021-02-19 ┆ 8204  │\n",
       "└────────────┴───────┘"
      ]
     },
     "execution_count": 56,
     "metadata": {},
     "output_type": "execute_result"
    }
   ],
   "source": [
    "pl_data = pl_data.with_columns(pl.col('date').str.to_date('%Y-%m-%dT%H:%M:%S%:z').dt.date().alias('date_only')).\\\n",
    "    drop('date')\n",
    "\n",
    "top_10_fechas_count = pl_data.group_by('date_only').\\\n",
    "    agg(pl.count('id').alias('count')).\\\n",
    "    sort(by='count', descending=True).\\\n",
    "    head(10)\n",
    "top_10_fechas_count"
   ]
  },
  {
   "cell_type": "code",
   "execution_count": 109,
   "metadata": {},
   "outputs": [
    {
     "data": {
      "text/plain": [
       "[datetime.date(2021, 2, 12),\n",
       " datetime.date(2021, 2, 13),\n",
       " datetime.date(2021, 2, 17),\n",
       " datetime.date(2021, 2, 16),\n",
       " datetime.date(2021, 2, 14),\n",
       " datetime.date(2021, 2, 18),\n",
       " datetime.date(2021, 2, 15),\n",
       " datetime.date(2021, 2, 20),\n",
       " datetime.date(2021, 2, 23),\n",
       " datetime.date(2021, 2, 19)]"
      ]
     },
     "execution_count": 109,
     "metadata": {},
     "output_type": "execute_result"
    }
   ],
   "source": [
    "top_10_fechas = top_10_fechas_count.get_column('date_only').to_list()\n",
    "top_10_fechas"
   ]
  },
  {
   "cell_type": "code",
   "execution_count": 110,
   "metadata": {},
   "outputs": [
    {
     "data": {
      "text/html": [
       "<div><style>\n",
       ".dataframe > thead > tr,\n",
       ".dataframe > tbody > tr {\n",
       "  text-align: right;\n",
       "  white-space: pre-wrap;\n",
       "}\n",
       "</style>\n",
       "<small>shape: (99_367, 3)</small><table border=\"1\" class=\"dataframe\"><thead><tr><th>id</th><th>username</th><th>date_only</th></tr><tr><td>i64</td><td>str</td><td>date</td></tr></thead><tbody><tr><td>1364364291609034760</td><td>&quot;GaganSingh0095&quot;</td><td>2021-02-23</td></tr><tr><td>1364364089154285570</td><td>&quot;harsimrin&quot;</td><td>2021-02-23</td></tr><tr><td>1364364062725787649</td><td>&quot;JazzW54&quot;</td><td>2021-02-23</td></tr><tr><td>1364363911747756037</td><td>&quot;rkahlonsangha&quot;</td><td>2021-02-23</td></tr><tr><td>1364363907566088192</td><td>&quot;ik_stip_boeren&quot;</td><td>2021-02-23</td></tr><tr><td>&hellip;</td><td>&hellip;</td><td>&hellip;</td></tr><tr><td>1360040182771163138</td><td>&quot;rickyrickstir&quot;</td><td>2021-02-12</td></tr><tr><td>1360040146402373637</td><td>&quot;PunjabTak&quot;</td><td>2021-02-12</td></tr><tr><td>1360040134230556678</td><td>&quot;ish_kayy&quot;</td><td>2021-02-12</td></tr><tr><td>1360040127679000577</td><td>&quot;TV9Bharatvarsh&quot;</td><td>2021-02-12</td></tr><tr><td>1360040127146430470</td><td>&quot;SikhVibes&quot;</td><td>2021-02-12</td></tr></tbody></table></div>"
      ],
      "text/plain": [
       "shape: (99_367, 3)\n",
       "┌─────────────────────┬────────────────┬────────────┐\n",
       "│ id                  ┆ username       ┆ date_only  │\n",
       "│ ---                 ┆ ---            ┆ ---        │\n",
       "│ i64                 ┆ str            ┆ date       │\n",
       "╞═════════════════════╪════════════════╪════════════╡\n",
       "│ 1364364291609034760 ┆ GaganSingh0095 ┆ 2021-02-23 │\n",
       "│ 1364364089154285570 ┆ harsimrin      ┆ 2021-02-23 │\n",
       "│ 1364364062725787649 ┆ JazzW54        ┆ 2021-02-23 │\n",
       "│ 1364363911747756037 ┆ rkahlonsangha  ┆ 2021-02-23 │\n",
       "│ 1364363907566088192 ┆ ik_stip_boeren ┆ 2021-02-23 │\n",
       "│ …                   ┆ …              ┆ …          │\n",
       "│ 1360040182771163138 ┆ rickyrickstir  ┆ 2021-02-12 │\n",
       "│ 1360040146402373637 ┆ PunjabTak      ┆ 2021-02-12 │\n",
       "│ 1360040134230556678 ┆ ish_kayy       ┆ 2021-02-12 │\n",
       "│ 1360040127679000577 ┆ TV9Bharatvarsh ┆ 2021-02-12 │\n",
       "│ 1360040127146430470 ┆ SikhVibes      ┆ 2021-02-12 │\n",
       "└─────────────────────┴────────────────┴────────────┘"
      ]
     },
     "execution_count": 110,
     "metadata": {},
     "output_type": "execute_result"
    }
   ],
   "source": [
    "pl_tweets_top10 = pl_data.filter(pl.col('date_only').is_in(top_10_fechas))\n",
    "pl_tweets_top10"
   ]
  },
  {
   "cell_type": "code",
   "execution_count": 91,
   "metadata": {},
   "outputs": [
    {
     "data": {
      "text/html": [
       "<div><style>\n",
       ".dataframe > thead > tr,\n",
       ".dataframe > tbody > tr {\n",
       "  text-align: right;\n",
       "  white-space: pre-wrap;\n",
       "}\n",
       "</style>\n",
       "<small>shape: (10, 2)</small><table border=\"1\" class=\"dataframe\"><thead><tr><th>date_only</th><th>username</th></tr><tr><td>date</td><td>str</td></tr></thead><tbody><tr><td>2021-02-12</td><td>&quot;RanbirS00614606&quot;</td></tr><tr><td>2021-02-13</td><td>&quot;MaanDee08215437&quot;</td></tr><tr><td>2021-02-17</td><td>&quot;RaaJVinderkaur&quot;</td></tr><tr><td>2021-02-16</td><td>&quot;jot__b&quot;</td></tr><tr><td>2021-02-14</td><td>&quot;rebelpacifist&quot;</td></tr><tr><td>2021-02-18</td><td>&quot;neetuanjle_nitu&quot;</td></tr><tr><td>2021-02-15</td><td>&quot;jot__b&quot;</td></tr><tr><td>2021-02-20</td><td>&quot;MangalJ23056160&quot;</td></tr><tr><td>2021-02-23</td><td>&quot;Surrypuria&quot;</td></tr><tr><td>2021-02-19</td><td>&quot;Preetm91&quot;</td></tr></tbody></table></div>"
      ],
      "text/plain": [
       "shape: (10, 2)\n",
       "┌────────────┬─────────────────┐\n",
       "│ date_only  ┆ username        │\n",
       "│ ---        ┆ ---             │\n",
       "│ date       ┆ str             │\n",
       "╞════════════╪═════════════════╡\n",
       "│ 2021-02-12 ┆ RanbirS00614606 │\n",
       "│ 2021-02-13 ┆ MaanDee08215437 │\n",
       "│ 2021-02-17 ┆ RaaJVinderkaur  │\n",
       "│ 2021-02-16 ┆ jot__b          │\n",
       "│ 2021-02-14 ┆ rebelpacifist   │\n",
       "│ 2021-02-18 ┆ neetuanjle_nitu │\n",
       "│ 2021-02-15 ┆ jot__b          │\n",
       "│ 2021-02-20 ┆ MangalJ23056160 │\n",
       "│ 2021-02-23 ┆ Surrypuria      │\n",
       "│ 2021-02-19 ┆ Preetm91        │\n",
       "└────────────┴─────────────────┘"
      ]
     },
     "execution_count": 91,
     "metadata": {},
     "output_type": "execute_result"
    }
   ],
   "source": [
    "top_users_in_top10_dates = pl_tweets_top10.with_columns(pl.count('id').over(['date_only', 'username']).alias('count_tweets_per_user_by_date'),\n",
    "    ).\\\n",
    "    with_columns(\n",
    "        pl.max('count_tweets_per_user_by_date').over('date_only').alias('max_tweets_per_user_by_date'), \n",
    "        pl.count('id').over('date_only').alias('count_id_by_date'), \n",
    "    ).\\\n",
    "    filter(pl.col('count_tweets_per_user_by_date')==pl.col('max_tweets_per_user_by_date')).\\\n",
    "    select('date_only', 'username', 'count_id_by_date').\\\n",
    "    unique().\\\n",
    "    sort(by='count_id_by_date', descending=True).\\\n",
    "    drop('count_id_by_date')\n",
    "\n",
    "top_users_in_top10_dates"
   ]
  },
  {
   "cell_type": "code",
   "execution_count": 104,
   "metadata": {},
   "outputs": [
    {
     "data": {
      "text/plain": [
       "[(datetime.date(2021, 2, 12), 'RanbirS00614606'),\n",
       " (datetime.date(2021, 2, 13), 'MaanDee08215437'),\n",
       " (datetime.date(2021, 2, 17), 'RaaJVinderkaur'),\n",
       " (datetime.date(2021, 2, 16), 'jot__b'),\n",
       " (datetime.date(2021, 2, 14), 'rebelpacifist'),\n",
       " (datetime.date(2021, 2, 18), 'neetuanjle_nitu'),\n",
       " (datetime.date(2021, 2, 15), 'jot__b'),\n",
       " (datetime.date(2021, 2, 20), 'MangalJ23056160'),\n",
       " (datetime.date(2021, 2, 23), 'Surrypuria'),\n",
       " (datetime.date(2021, 2, 19), 'Preetm91')]"
      ]
     },
     "execution_count": 104,
     "metadata": {},
     "output_type": "execute_result"
    }
   ],
   "source": [
    "result = top_users_in_top10_dates.rows()\n",
    "result"
   ]
  }
 ],
 "metadata": {
  "kernelspec": {
   "display_name": "Python 3",
   "language": "python",
   "name": "python3"
  },
  "language_info": {
   "codemirror_mode": {
    "name": "ipython",
    "version": 3
   },
   "file_extension": ".py",
   "mimetype": "text/x-python",
   "name": "python",
   "nbconvert_exporter": "python",
   "pygments_lexer": "ipython3",
   "version": "3.10.0"
  }
 },
 "nbformat": 4,
 "nbformat_minor": 2
}
